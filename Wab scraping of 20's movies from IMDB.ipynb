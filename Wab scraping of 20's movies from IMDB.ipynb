{
 "cells": [
  {
   "cell_type": "code",
   "execution_count": 1,
   "id": "e64ad885",
   "metadata": {},
   "outputs": [],
   "source": [
    "import numpy as np \n",
    "import requests\n",
    "import pandas as pd\n",
    "from bs4 import BeautifulSoup as soup\n",
    "from random import randint \n",
    "from time import sleep "
   ]
  },
  {
   "cell_type": "markdown",
   "id": "3c4f1909",
   "metadata": {},
   "source": [
    "## 2000"
   ]
  },
  {
   "cell_type": "code",
   "execution_count": 2,
   "id": "6e7dd90a",
   "metadata": {},
   "outputs": [
    {
     "data": {
      "text/plain": [
       "array([  1,  51, 101, 151, 201, 251, 301, 351, 401, 451, 501, 551, 601,\n",
       "       651, 701, 751, 801, 851, 901, 951])"
      ]
     },
     "execution_count": 2,
     "metadata": {},
     "output_type": "execute_result"
    }
   ],
   "source": [
    "pages = np.arange(1,1000,50) \n",
    "pages"
   ]
  },
  {
   "cell_type": "code",
   "execution_count": 3,
   "id": "e3f3f5ea",
   "metadata": {},
   "outputs": [],
   "source": [
    "movies_name=[]\n",
    "year=[]\n",
    "rating=[]\n",
    "description=[]\n",
    "Director=[]\n",
    "Stars=[]\n",
    "Gener=[]"
   ]
  },
  {
   "cell_type": "code",
   "execution_count": 4,
   "id": "b471d4c4",
   "metadata": {},
   "outputs": [],
   "source": [
    "for page in pages:\n",
    "    my_url = requests.get(f'https://www.imdb.com/search/title/?title_type=feature&year=2000-01-01,2000-12-31&start={str(page)}&ref_=adv_nxt')\n",
    "    page_html= my_url.content \n",
    "    page_soup=soup(page_html,\"html.parser\") \n",
    "    containers= page_soup.findAll(\"div\", {\"class\": \"lister-item mode-advanced\"}) \n",
    "    sleep(randint(2,8))\n",
    "    for i in containers: \n",
    "        name=i.h3.a.text\n",
    "        movies_name.append(name)\n",
    "        \n",
    "        year_of_relese= i.h3.find('span', {\"class\": \"lister-item-year\"}).text.replace('(', '').replace(')', '')\n",
    "        year.append(year_of_relese)\n",
    "        \n",
    "        des=i.findAll('p',class_='text-muted')[1].text.strip('\\n')\n",
    "        description.append(des)\n",
    "        \n",
    "        try:\n",
    "            rate = i.find('div', class_ = \"inline-block ratings-imdb-rating\").text.replace('\\n','')\n",
    "            rating.append(rate)\n",
    "        except AttributeError:\n",
    "            rating.append(np.nan)\n",
    "            \n",
    "        \n",
    "        try:\n",
    "            cast=i.find('p',class_='').text.replace('\\n', '').split('|')\n",
    "            cast = [x.strip() for x in cast]\n",
    "            try:\n",
    "                cast = [cast[i].replace(j, \"\") for i,j in enumerate([\"Director:\", \"Stars:\"])]\n",
    "                Director.append(cast[0])\n",
    "                Stars.append(cast[1]) \n",
    "            except IndexError or AttributeError:\n",
    "                Director.append(np.nan)\n",
    "                Stars.append(np.nan) \n",
    "        except AttributeError or IndexError:\n",
    "            Director.append(np.nan)\n",
    "            Stars.append(np.nan) \n",
    "            \n",
    "        \n",
    "        try:\n",
    "            gener=i.find('span',{'class':'genre'}).text.strip()\n",
    "            Gener.append(gener) \n",
    "        except AttributeError:\n",
    "            Gener.append(np.nan) \n",
    "            "
   ]
  },
  {
   "cell_type": "code",
   "execution_count": 5,
   "id": "d9e150cc",
   "metadata": {},
   "outputs": [
    {
     "name": "stdout",
     "output_type": "stream",
     "text": [
      "1000\n",
      "1000\n",
      "1000\n",
      "1000\n",
      "1000\n",
      "1000\n",
      "1000\n"
     ]
    }
   ],
   "source": [
    "print(len(movies_name))\n",
    "print(len(year))\n",
    "print(len(rating))\n",
    "print(len(description))\n",
    "print(len(Director))\n",
    "print(len(Stars))\n",
    "print(len(Gener))"
   ]
  },
  {
   "cell_type": "code",
   "execution_count": 6,
   "id": "2d5bd084",
   "metadata": {},
   "outputs": [],
   "source": [
    "movies_df_2000 = pd.DataFrame({'Name_of_Movies':movies_name,'Year_Of_Relese':year,'Ratings':rating,\n",
    "                          'Description':description,'Director':Director,'Stars':Stars,'Gener':Gener})"
   ]
  },
  {
   "cell_type": "code",
   "execution_count": 7,
   "id": "0e521d42",
   "metadata": {},
   "outputs": [
    {
     "data": {
      "text/html": [
       "<div>\n",
       "<style scoped>\n",
       "    .dataframe tbody tr th:only-of-type {\n",
       "        vertical-align: middle;\n",
       "    }\n",
       "\n",
       "    .dataframe tbody tr th {\n",
       "        vertical-align: top;\n",
       "    }\n",
       "\n",
       "    .dataframe thead th {\n",
       "        text-align: right;\n",
       "    }\n",
       "</style>\n",
       "<table border=\"1\" class=\"dataframe\">\n",
       "  <thead>\n",
       "    <tr style=\"text-align: right;\">\n",
       "      <th></th>\n",
       "      <th>Name_of_Movies</th>\n",
       "      <th>Year_Of_Relese</th>\n",
       "      <th>Ratings</th>\n",
       "      <th>Description</th>\n",
       "      <th>Director</th>\n",
       "      <th>Stars</th>\n",
       "      <th>Gener</th>\n",
       "    </tr>\n",
       "  </thead>\n",
       "  <tbody>\n",
       "    <tr>\n",
       "      <th>0</th>\n",
       "      <td>American Psycho</td>\n",
       "      <td>2000</td>\n",
       "      <td>7.6</td>\n",
       "      <td>A wealthy New York City investment banking exe...</td>\n",
       "      <td>Mary Harron</td>\n",
       "      <td>Christian Bale, Justin Theroux, Josh Lucas, Bi...</td>\n",
       "      <td>Crime, Drama, Horror</td>\n",
       "    </tr>\n",
       "    <tr>\n",
       "      <th>1</th>\n",
       "      <td>Gladiator</td>\n",
       "      <td>2000</td>\n",
       "      <td>8.5</td>\n",
       "      <td>A former Roman General sets out to exact venge...</td>\n",
       "      <td>Ridley Scott</td>\n",
       "      <td>Russell Crowe, Joaquin Phoenix, Connie Nielsen...</td>\n",
       "      <td>Action, Adventure, Drama</td>\n",
       "    </tr>\n",
       "    <tr>\n",
       "      <th>2</th>\n",
       "      <td>Requiem for a Dream</td>\n",
       "      <td>2000</td>\n",
       "      <td>8.3</td>\n",
       "      <td>The drug-induced utopias of four Coney Island ...</td>\n",
       "      <td>Darren Aronofsky</td>\n",
       "      <td>Ellen Burstyn, Jared Leto, Jennifer Connelly, ...</td>\n",
       "      <td>Drama</td>\n",
       "    </tr>\n",
       "    <tr>\n",
       "      <th>3</th>\n",
       "      <td>Memento</td>\n",
       "      <td>2000</td>\n",
       "      <td>8.4</td>\n",
       "      <td>A man with short-term memory loss attempts to ...</td>\n",
       "      <td>Christopher Nolan</td>\n",
       "      <td>Guy Pearce, Carrie-Anne Moss, Joe Pantoliano, ...</td>\n",
       "      <td>Mystery, Thriller</td>\n",
       "    </tr>\n",
       "    <tr>\n",
       "      <th>4</th>\n",
       "      <td>Snatch</td>\n",
       "      <td>2000</td>\n",
       "      <td>8.3</td>\n",
       "      <td>Unscrupulous boxing promoters, violent bookmak...</td>\n",
       "      <td>Guy Ritchie</td>\n",
       "      <td>Jason Statham, Brad Pitt, Stephen Graham, Vinn...</td>\n",
       "      <td>Comedy, Crime</td>\n",
       "    </tr>\n",
       "  </tbody>\n",
       "</table>\n",
       "</div>"
      ],
      "text/plain": [
       "        Name_of_Movies Year_Of_Relese Ratings  \\\n",
       "0      American Psycho           2000     7.6   \n",
       "1            Gladiator           2000     8.5   \n",
       "2  Requiem for a Dream           2000     8.3   \n",
       "3              Memento           2000     8.4   \n",
       "4               Snatch           2000     8.3   \n",
       "\n",
       "                                         Description           Director  \\\n",
       "0  A wealthy New York City investment banking exe...        Mary Harron   \n",
       "1  A former Roman General sets out to exact venge...       Ridley Scott   \n",
       "2  The drug-induced utopias of four Coney Island ...   Darren Aronofsky   \n",
       "3  A man with short-term memory loss attempts to ...  Christopher Nolan   \n",
       "4  Unscrupulous boxing promoters, violent bookmak...        Guy Ritchie   \n",
       "\n",
       "                                               Stars                     Gener  \n",
       "0  Christian Bale, Justin Theroux, Josh Lucas, Bi...      Crime, Drama, Horror  \n",
       "1  Russell Crowe, Joaquin Phoenix, Connie Nielsen...  Action, Adventure, Drama  \n",
       "2  Ellen Burstyn, Jared Leto, Jennifer Connelly, ...                     Drama  \n",
       "3  Guy Pearce, Carrie-Anne Moss, Joe Pantoliano, ...         Mystery, Thriller  \n",
       "4  Jason Statham, Brad Pitt, Stephen Graham, Vinn...             Comedy, Crime  "
      ]
     },
     "execution_count": 7,
     "metadata": {},
     "output_type": "execute_result"
    }
   ],
   "source": [
    "movies_df_2000.head()"
   ]
  },
  {
   "cell_type": "code",
   "execution_count": 8,
   "id": "89f4aa10",
   "metadata": {},
   "outputs": [
    {
     "data": {
      "text/plain": [
       "Name_of_Movies    0\n",
       "Year_Of_Relese    0\n",
       "Ratings           6\n",
       "Description       0\n",
       "Director          4\n",
       "Stars             4\n",
       "Gener             2\n",
       "dtype: int64"
      ]
     },
     "execution_count": 8,
     "metadata": {},
     "output_type": "execute_result"
    }
   ],
   "source": [
    "movies_df_2000.isnull().sum()"
   ]
  },
  {
   "cell_type": "code",
   "execution_count": null,
   "id": "f80ea87d",
   "metadata": {},
   "outputs": [],
   "source": []
  },
  {
   "cell_type": "code",
   "execution_count": null,
   "id": "bf95f85a",
   "metadata": {},
   "outputs": [],
   "source": []
  },
  {
   "cell_type": "code",
   "execution_count": null,
   "id": "abc19bdc",
   "metadata": {},
   "outputs": [],
   "source": []
  },
  {
   "cell_type": "markdown",
   "id": "da8642c1",
   "metadata": {},
   "source": [
    "## 2001"
   ]
  },
  {
   "cell_type": "code",
   "execution_count": 9,
   "id": "8b80c787",
   "metadata": {},
   "outputs": [],
   "source": [
    "movies_name=[]\n",
    "year=[]\n",
    "rating=[]\n",
    "description=[]\n",
    "Director=[]\n",
    "Stars=[]\n",
    "Gener=[]"
   ]
  },
  {
   "cell_type": "code",
   "execution_count": 10,
   "id": "9ce7df96",
   "metadata": {},
   "outputs": [],
   "source": [
    "for page in pages:\n",
    "    my_url = requests.get(f'https://www.imdb.com/search/title/?title_type=feature&year=2001-01-01,2001-12-31&start={str(page)}&ref_=adv_nxt')\n",
    "    page_html= my_url.content \n",
    "    page_soup=soup(page_html,\"html.parser\") \n",
    "    containers= page_soup.findAll(\"div\", {\"class\": \"lister-item mode-advanced\"}) \n",
    "    sleep(randint(2,8))\n",
    "    for i in containers: \n",
    "        name=i.h3.a.text\n",
    "        movies_name.append(name)\n",
    "        \n",
    "        year_of_relese= i.h3.find('span', {\"class\": \"lister-item-year\"}).text.replace('(', '').replace(')', '')\n",
    "        year.append(year_of_relese)\n",
    "        \n",
    "        des=i.findAll('p',class_='text-muted')[1].text.strip('\\n')\n",
    "        description.append(des)\n",
    "        \n",
    "        try:\n",
    "            rate = i.find('div', class_ = \"inline-block ratings-imdb-rating\").text.replace('\\n','')\n",
    "            rating.append(rate)\n",
    "        except AttributeError:\n",
    "            rating.append(np.nan)\n",
    "            \n",
    "        \n",
    "        try:\n",
    "            cast=i.find('p',class_='').text.replace('\\n', '').split('|')\n",
    "            cast = [x.strip() for x in cast]\n",
    "            try:\n",
    "                cast = [cast[i].replace(j, \"\") for i,j in enumerate([\"Director:\", \"Stars:\"])]\n",
    "                Director.append(cast[0])\n",
    "                Stars.append(cast[1]) \n",
    "            except IndexError or AttributeError:\n",
    "                Director.append(np.nan)\n",
    "                Stars.append(np.nan) \n",
    "        except AttributeError or IndexError:\n",
    "            Director.append(np.nan)\n",
    "            Stars.append(np.nan) \n",
    "            \n",
    "        \n",
    "        try:\n",
    "            gener=i.find('span',{'class':'genre'}).text.strip()\n",
    "            Gener.append(gener) \n",
    "        except AttributeError:\n",
    "            Gener.append(np.nan) \n",
    "            "
   ]
  },
  {
   "cell_type": "code",
   "execution_count": 11,
   "id": "c1a8a683",
   "metadata": {},
   "outputs": [],
   "source": [
    "movies_df_2001 = pd.DataFrame({'Name_of_Movies':movies_name,'Year_Of_Relese':year,'Ratings':rating,\n",
    "                          'Description':description,'Director':Director,'Stars':Stars,'Gener':Gener})"
   ]
  },
  {
   "cell_type": "code",
   "execution_count": 12,
   "id": "ef06feb3",
   "metadata": {},
   "outputs": [
    {
     "name": "stdout",
     "output_type": "stream",
     "text": [
      "1000\n",
      "1000\n",
      "1000\n",
      "1000\n",
      "1000\n",
      "1000\n",
      "1000\n"
     ]
    }
   ],
   "source": [
    "print(len(movies_name))\n",
    "print(len(year))\n",
    "print(len(rating))\n",
    "print(len(description))\n",
    "print(len(Director))\n",
    "print(len(Stars))\n",
    "print(len(Gener))"
   ]
  },
  {
   "cell_type": "code",
   "execution_count": 13,
   "id": "40a4271a",
   "metadata": {},
   "outputs": [
    {
     "data": {
      "text/plain": [
       "Name_of_Movies    0\n",
       "Year_Of_Relese    0\n",
       "Ratings           9\n",
       "Description       0\n",
       "Director          6\n",
       "Stars             6\n",
       "Gener             2\n",
       "dtype: int64"
      ]
     },
     "execution_count": 13,
     "metadata": {},
     "output_type": "execute_result"
    }
   ],
   "source": [
    "movies_df_2001.isnull().sum()"
   ]
  },
  {
   "cell_type": "code",
   "execution_count": null,
   "id": "c9271e41",
   "metadata": {},
   "outputs": [],
   "source": []
  },
  {
   "cell_type": "markdown",
   "id": "f901488a",
   "metadata": {},
   "source": [
    "## 2002 "
   ]
  },
  {
   "cell_type": "code",
   "execution_count": 14,
   "id": "5c3b7c0c",
   "metadata": {},
   "outputs": [],
   "source": [
    "movies_name=[]\n",
    "year=[]\n",
    "rating=[]\n",
    "description=[]\n",
    "Director=[]\n",
    "Stars=[]\n",
    "Gener=[]"
   ]
  },
  {
   "cell_type": "code",
   "execution_count": 15,
   "id": "2e6d2444",
   "metadata": {},
   "outputs": [],
   "source": [
    "for page in pages:\n",
    "    my_url = requests.get(f'https://www.imdb.com/search/title/?title_type=feature&year=2002-01-01,2002-12-31&start={str(page)}&ref_=adv_nxt')\n",
    "    page_html= my_url.content \n",
    "    page_soup=soup(page_html,\"html.parser\") \n",
    "    containers= page_soup.findAll(\"div\", {\"class\": \"lister-item mode-advanced\"}) \n",
    "    sleep(randint(2,8))\n",
    "    for i in containers: \n",
    "        name=i.h3.a.text\n",
    "        movies_name.append(name)\n",
    "        \n",
    "        year_of_relese= i.h3.find('span', {\"class\": \"lister-item-year\"}).text.replace('(', '').replace(')', '')\n",
    "        year.append(year_of_relese)\n",
    "        \n",
    "        des=i.findAll('p',class_='text-muted')[1].text.strip('\\n')\n",
    "        description.append(des)\n",
    "        \n",
    "        try:\n",
    "            rate = i.find('div', class_ = \"inline-block ratings-imdb-rating\").text.replace('\\n','')\n",
    "            rating.append(rate)\n",
    "        except AttributeError:\n",
    "            rating.append(np.nan)\n",
    "            \n",
    "        \n",
    "        try:\n",
    "            cast=i.find('p',class_='').text.replace('\\n', '').split('|')\n",
    "            cast = [x.strip() for x in cast]\n",
    "            try:\n",
    "                cast = [cast[i].replace(j, \"\") for i,j in enumerate([\"Director:\", \"Stars:\"])]\n",
    "                Director.append(cast[0])\n",
    "                Stars.append(cast[1]) \n",
    "            except IndexError or AttributeError:\n",
    "                Director.append(np.nan)\n",
    "                Stars.append(np.nan) \n",
    "        except AttributeError or IndexError:\n",
    "            Director.append(np.nan)\n",
    "            Stars.append(np.nan) \n",
    "            \n",
    "        \n",
    "        try:\n",
    "            gener=i.find('span',{'class':'genre'}).text.strip()\n",
    "            Gener.append(gener) \n",
    "        except AttributeError:\n",
    "            Gener.append(np.nan) "
   ]
  },
  {
   "cell_type": "code",
   "execution_count": 16,
   "id": "be0ce967",
   "metadata": {},
   "outputs": [],
   "source": [
    "movies_df_2002 = pd.DataFrame({'Name_of_Movies':movies_name,'Year_Of_Relese':year,'Ratings':rating,\n",
    "                          'Description':description,'Director':Director,'Stars':Stars,'Gener':Gener})"
   ]
  },
  {
   "cell_type": "code",
   "execution_count": 17,
   "id": "f7180cbc",
   "metadata": {},
   "outputs": [
    {
     "name": "stdout",
     "output_type": "stream",
     "text": [
      "1000\n",
      "1000\n",
      "1000\n",
      "1000\n",
      "1000\n",
      "1000\n",
      "1000\n"
     ]
    }
   ],
   "source": [
    "print(len(movies_name))\n",
    "print(len(year))\n",
    "print(len(rating))\n",
    "print(len(description))\n",
    "print(len(Director))\n",
    "print(len(Stars))\n",
    "print(len(Gener))"
   ]
  },
  {
   "cell_type": "code",
   "execution_count": 18,
   "id": "8d437955",
   "metadata": {},
   "outputs": [
    {
     "data": {
      "text/plain": [
       "Name_of_Movies    0\n",
       "Year_Of_Relese    0\n",
       "Ratings           5\n",
       "Description       0\n",
       "Director          1\n",
       "Stars             1\n",
       "Gener             2\n",
       "dtype: int64"
      ]
     },
     "execution_count": 18,
     "metadata": {},
     "output_type": "execute_result"
    }
   ],
   "source": [
    "movies_df_2002.isnull().sum()"
   ]
  },
  {
   "cell_type": "code",
   "execution_count": null,
   "id": "d4abaa7d",
   "metadata": {},
   "outputs": [],
   "source": []
  },
  {
   "cell_type": "markdown",
   "id": "8d35f404",
   "metadata": {},
   "source": [
    "## 2003"
   ]
  },
  {
   "cell_type": "code",
   "execution_count": null,
   "id": "9037122d",
   "metadata": {},
   "outputs": [],
   "source": []
  },
  {
   "cell_type": "code",
   "execution_count": 19,
   "id": "6de94492",
   "metadata": {},
   "outputs": [],
   "source": [
    "movies_name=[]\n",
    "year=[]\n",
    "rating=[]\n",
    "description=[]\n",
    "Director=[]\n",
    "Stars=[]\n",
    "Gener=[]"
   ]
  },
  {
   "cell_type": "code",
   "execution_count": 20,
   "id": "3911257c",
   "metadata": {},
   "outputs": [],
   "source": [
    "for page in pages:\n",
    "    my_url = requests.get(f'https://www.imdb.com/search/title/?title_type=feature&year=2003-01-01,2003-12-31&start={str(page)}&ref_=adv_nxt')\n",
    "    page_html= my_url.content \n",
    "    page_soup=soup(page_html,\"html.parser\") \n",
    "    containers= page_soup.findAll(\"div\", {\"class\": \"lister-item mode-advanced\"}) \n",
    "    sleep(randint(2,8))\n",
    "    for i in containers: \n",
    "        name=i.h3.a.text\n",
    "        movies_name.append(name)\n",
    "        \n",
    "        year_of_relese= i.h3.find('span', {\"class\": \"lister-item-year\"}).text.replace('(', '').replace(')', '')\n",
    "        year.append(year_of_relese)\n",
    "        \n",
    "        des=i.findAll('p',class_='text-muted')[1].text.strip('\\n')\n",
    "        description.append(des)\n",
    "        \n",
    "        try:\n",
    "            rate = i.find('div', class_ = \"inline-block ratings-imdb-rating\").text.replace('\\n','')\n",
    "            rating.append(rate)\n",
    "        except AttributeError:\n",
    "            rating.append(np.nan)\n",
    "            \n",
    "        \n",
    "        try:\n",
    "            cast=i.find('p',class_='').text.replace('\\n', '').split('|')\n",
    "            cast = [x.strip() for x in cast]\n",
    "            try:\n",
    "                cast = [cast[i].replace(j, \"\") for i,j in enumerate([\"Director:\", \"Stars:\"])]\n",
    "                Director.append(cast[0])\n",
    "                Stars.append(cast[1]) \n",
    "            except IndexError or AttributeError:\n",
    "                Director.append(np.nan)\n",
    "                Stars.append(np.nan) \n",
    "        except AttributeError or IndexError:\n",
    "            Director.append(np.nan)\n",
    "            Stars.append(np.nan) \n",
    "            \n",
    "        \n",
    "        try:\n",
    "            gener=i.find('span',{'class':'genre'}).text.strip()\n",
    "            Gener.append(gener) \n",
    "        except AttributeError:\n",
    "            Gener.append(np.nan) "
   ]
  },
  {
   "cell_type": "code",
   "execution_count": 21,
   "id": "9fd84598",
   "metadata": {},
   "outputs": [],
   "source": [
    "movies_df_2003 = pd.DataFrame({'Name_of_Movies':movies_name,'Year_Of_Relese':year,'Ratings':rating,\n",
    "                          'Description':description,'Director':Director,'Stars':Stars,'Gener':Gener})"
   ]
  },
  {
   "cell_type": "code",
   "execution_count": 22,
   "id": "8edbe1f3",
   "metadata": {},
   "outputs": [
    {
     "name": "stdout",
     "output_type": "stream",
     "text": [
      "1000\n",
      "1000\n",
      "1000\n",
      "1000\n",
      "1000\n",
      "1000\n",
      "1000\n"
     ]
    }
   ],
   "source": [
    "print(len(movies_name))\n",
    "print(len(year))\n",
    "print(len(rating))\n",
    "print(len(description))\n",
    "print(len(Director))\n",
    "print(len(Stars))\n",
    "print(len(Gener))"
   ]
  },
  {
   "cell_type": "code",
   "execution_count": 23,
   "id": "a3702956",
   "metadata": {},
   "outputs": [
    {
     "data": {
      "text/plain": [
       "Name_of_Movies    0\n",
       "Year_Of_Relese    0\n",
       "Ratings           6\n",
       "Description       0\n",
       "Director          4\n",
       "Stars             4\n",
       "Gener             1\n",
       "dtype: int64"
      ]
     },
     "execution_count": 23,
     "metadata": {},
     "output_type": "execute_result"
    }
   ],
   "source": [
    "movies_df_2003.isnull().sum()"
   ]
  },
  {
   "cell_type": "code",
   "execution_count": null,
   "id": "dddca678",
   "metadata": {},
   "outputs": [],
   "source": []
  },
  {
   "cell_type": "markdown",
   "id": "1ed38810",
   "metadata": {},
   "source": [
    "## 2004"
   ]
  },
  {
   "cell_type": "code",
   "execution_count": 24,
   "id": "164b39d8",
   "metadata": {},
   "outputs": [],
   "source": [
    "movies_name=[]\n",
    "year=[]\n",
    "rating=[]\n",
    "description=[]\n",
    "Director=[]\n",
    "Stars=[]\n",
    "Gener=[]"
   ]
  },
  {
   "cell_type": "code",
   "execution_count": 25,
   "id": "50ca6f32",
   "metadata": {},
   "outputs": [],
   "source": [
    "for page in pages:\n",
    "    my_url = requests.get(f'https://www.imdb.com/search/title/?title_type=feature&year=2004-01-01,2004-12-31&start={str(page)}&ref_=adv_nxt')\n",
    "    page_html= my_url.content \n",
    "    page_soup=soup(page_html,\"html.parser\") \n",
    "    containers= page_soup.findAll(\"div\", {\"class\": \"lister-item mode-advanced\"}) \n",
    "    sleep(randint(2,8))\n",
    "    for i in containers: \n",
    "        name=i.h3.a.text\n",
    "        movies_name.append(name)\n",
    "        \n",
    "        year_of_relese= i.h3.find('span', {\"class\": \"lister-item-year\"}).text.replace('(', '').replace(')', '')\n",
    "        year.append(year_of_relese)\n",
    "        \n",
    "        des=i.findAll('p',class_='text-muted')[1].text.strip('\\n')\n",
    "        description.append(des)\n",
    "        \n",
    "        try:\n",
    "            rate = i.find('div', class_ = \"inline-block ratings-imdb-rating\").text.replace('\\n','')\n",
    "            rating.append(rate)\n",
    "        except AttributeError:\n",
    "            rating.append(np.nan)\n",
    "            \n",
    "        \n",
    "        try:\n",
    "            cast=i.find('p',class_='').text.replace('\\n', '').split('|')\n",
    "            cast = [x.strip() for x in cast]\n",
    "            try:\n",
    "                cast = [cast[i].replace(j, \"\") for i,j in enumerate([\"Director:\", \"Stars:\"])]\n",
    "                Director.append(cast[0])\n",
    "                Stars.append(cast[1]) \n",
    "            except IndexError or AttributeError:\n",
    "                Director.append(np.nan)\n",
    "                Stars.append(np.nan) \n",
    "        except AttributeError or IndexError:\n",
    "            Director.append(np.nan)\n",
    "            Stars.append(np.nan) \n",
    "            \n",
    "        \n",
    "        try:\n",
    "            gener=i.find('span',{'class':'genre'}).text.strip()\n",
    "            Gener.append(gener) \n",
    "        except AttributeError:\n",
    "            Gener.append(np.nan) "
   ]
  },
  {
   "cell_type": "code",
   "execution_count": 26,
   "id": "fb69c335",
   "metadata": {},
   "outputs": [],
   "source": [
    "movies_df_2004 = pd.DataFrame({'Name_of_Movies':movies_name,'Year_Of_Relese':year,'Ratings':rating,\n",
    "                          'Description':description,'Director':Director,'Stars':Stars,'Gener':Gener})"
   ]
  },
  {
   "cell_type": "code",
   "execution_count": 27,
   "id": "8e846071",
   "metadata": {},
   "outputs": [
    {
     "name": "stdout",
     "output_type": "stream",
     "text": [
      "1000\n",
      "1000\n",
      "1000\n",
      "1000\n",
      "1000\n",
      "1000\n",
      "1000\n"
     ]
    }
   ],
   "source": [
    "print(len(movies_name))\n",
    "print(len(year))\n",
    "print(len(rating))\n",
    "print(len(description))\n",
    "print(len(Director))\n",
    "print(len(Stars))\n",
    "print(len(Gener))"
   ]
  },
  {
   "cell_type": "code",
   "execution_count": 28,
   "id": "43e962d2",
   "metadata": {},
   "outputs": [
    {
     "data": {
      "text/plain": [
       "Name_of_Movies    0\n",
       "Year_Of_Relese    0\n",
       "Ratings           3\n",
       "Description       0\n",
       "Director          2\n",
       "Stars             2\n",
       "Gener             3\n",
       "dtype: int64"
      ]
     },
     "execution_count": 28,
     "metadata": {},
     "output_type": "execute_result"
    }
   ],
   "source": [
    "movies_df_2004.isnull().sum()"
   ]
  },
  {
   "cell_type": "code",
   "execution_count": null,
   "id": "d3f28c78",
   "metadata": {},
   "outputs": [],
   "source": []
  },
  {
   "cell_type": "markdown",
   "id": "cc5d636f",
   "metadata": {},
   "source": [
    "## 2005"
   ]
  },
  {
   "cell_type": "code",
   "execution_count": null,
   "id": "ca972293",
   "metadata": {},
   "outputs": [],
   "source": []
  },
  {
   "cell_type": "code",
   "execution_count": 29,
   "id": "2dd6d844",
   "metadata": {},
   "outputs": [],
   "source": [
    "movies_name=[]\n",
    "year=[]\n",
    "rating=[]\n",
    "description=[]\n",
    "Director=[]\n",
    "Stars=[]\n",
    "Gener=[]"
   ]
  },
  {
   "cell_type": "code",
   "execution_count": 30,
   "id": "e3de2f93",
   "metadata": {},
   "outputs": [],
   "source": [
    "for page in pages:\n",
    "    my_url = requests.get(f'https://www.imdb.com/search/title/?title_type=feature&year=2005-01-01,2005-12-31&start={str(page)}&ref_=adv_nxt')\n",
    "    page_html= my_url.content \n",
    "    page_soup=soup(page_html,\"html.parser\") \n",
    "    containers= page_soup.findAll(\"div\", {\"class\": \"lister-item mode-advanced\"}) \n",
    "    sleep(randint(2,8))\n",
    "    for i in containers: \n",
    "        name=i.h3.a.text\n",
    "        movies_name.append(name)\n",
    "        \n",
    "        year_of_relese= i.h3.find('span', {\"class\": \"lister-item-year\"}).text.replace('(', '').replace(')', '')\n",
    "        year.append(year_of_relese)\n",
    "        \n",
    "        des=i.findAll('p',class_='text-muted')[1].text.strip('\\n')\n",
    "        description.append(des)\n",
    "        \n",
    "        try:\n",
    "            rate = i.find('div', class_ = \"inline-block ratings-imdb-rating\").text.replace('\\n','')\n",
    "            rating.append(rate)\n",
    "        except AttributeError:\n",
    "            rating.append(np.nan)\n",
    "            \n",
    "        \n",
    "        try:\n",
    "            cast=i.find('p',class_='').text.replace('\\n', '').split('|')\n",
    "            cast = [x.strip() for x in cast]\n",
    "            try:\n",
    "                cast = [cast[i].replace(j, \"\") for i,j in enumerate([\"Director:\", \"Stars:\"])]\n",
    "                Director.append(cast[0])\n",
    "                Stars.append(cast[1]) \n",
    "            except IndexError or AttributeError:\n",
    "                Director.append(np.nan)\n",
    "                Stars.append(np.nan) \n",
    "        except AttributeError or IndexError:\n",
    "            Director.append(np.nan)\n",
    "            Stars.append(np.nan) \n",
    "            \n",
    "        \n",
    "        try:\n",
    "            gener=i.find('span',{'class':'genre'}).text.strip()\n",
    "            Gener.append(gener) \n",
    "        except AttributeError:\n",
    "            Gener.append(np.nan) "
   ]
  },
  {
   "cell_type": "code",
   "execution_count": 31,
   "id": "bbb316dd",
   "metadata": {},
   "outputs": [],
   "source": [
    "movies_df_2005 = pd.DataFrame({'Name_of_Movies':movies_name,'Year_Of_Relese':year,'Ratings':rating,\n",
    "                          'Description':description,'Director':Director,'Stars':Stars,'Gener':Gener})"
   ]
  },
  {
   "cell_type": "code",
   "execution_count": 32,
   "id": "f9e8626f",
   "metadata": {},
   "outputs": [
    {
     "name": "stdout",
     "output_type": "stream",
     "text": [
      "1000\n",
      "1000\n",
      "1000\n",
      "1000\n",
      "1000\n",
      "1000\n",
      "1000\n"
     ]
    }
   ],
   "source": [
    "print(len(movies_name))\n",
    "print(len(year))\n",
    "print(len(rating))\n",
    "print(len(description))\n",
    "print(len(Director))\n",
    "print(len(Stars))\n",
    "print(len(Gener))"
   ]
  },
  {
   "cell_type": "code",
   "execution_count": 33,
   "id": "043a40ea",
   "metadata": {},
   "outputs": [
    {
     "data": {
      "text/plain": [
       "Name_of_Movies    0\n",
       "Year_Of_Relese    0\n",
       "Ratings           4\n",
       "Description       0\n",
       "Director          2\n",
       "Stars             2\n",
       "Gener             1\n",
       "dtype: int64"
      ]
     },
     "execution_count": 33,
     "metadata": {},
     "output_type": "execute_result"
    }
   ],
   "source": [
    "movies_df_2005.isnull().sum()"
   ]
  },
  {
   "cell_type": "code",
   "execution_count": null,
   "id": "b61a74d4",
   "metadata": {},
   "outputs": [],
   "source": []
  },
  {
   "cell_type": "code",
   "execution_count": null,
   "id": "b0e63593",
   "metadata": {},
   "outputs": [],
   "source": []
  },
  {
   "cell_type": "markdown",
   "id": "cf593a1c",
   "metadata": {},
   "source": [
    "## 2006"
   ]
  },
  {
   "cell_type": "code",
   "execution_count": 34,
   "id": "e3aeccaf",
   "metadata": {},
   "outputs": [],
   "source": [
    "movies_name=[]\n",
    "year=[]\n",
    "rating=[]\n",
    "description=[]\n",
    "Director=[]\n",
    "Stars=[]\n",
    "Gener=[]"
   ]
  },
  {
   "cell_type": "code",
   "execution_count": 35,
   "id": "de56ac68",
   "metadata": {},
   "outputs": [],
   "source": [
    "for page in pages:\n",
    "    my_url = requests.get(f'https://www.imdb.com/search/title/?title_type=feature&year=2006-01-01,2006-12-31&start={str(page)}&ref_=adv_nxt')\n",
    "    page_html= my_url.content \n",
    "    page_soup=soup(page_html,\"html.parser\") \n",
    "    containers= page_soup.findAll(\"div\", {\"class\": \"lister-item mode-advanced\"}) \n",
    "    sleep(randint(2,8))\n",
    "    for i in containers: \n",
    "        name=i.h3.a.text\n",
    "        movies_name.append(name)\n",
    "        \n",
    "        year_of_relese= i.h3.find('span', {\"class\": \"lister-item-year\"}).text.replace('(', '').replace(')', '')\n",
    "        year.append(year_of_relese)\n",
    "        \n",
    "        des=i.findAll('p',class_='text-muted')[1].text.strip('\\n')\n",
    "        description.append(des)\n",
    "        \n",
    "        try:\n",
    "            rate = i.find('div', class_ = \"inline-block ratings-imdb-rating\").text.replace('\\n','')\n",
    "            rating.append(rate)\n",
    "        except AttributeError:\n",
    "            rating.append(np.nan)\n",
    "            \n",
    "        \n",
    "        try:\n",
    "            cast=i.find('p',class_='').text.replace('\\n', '').split('|')\n",
    "            cast = [x.strip() for x in cast]\n",
    "            try:\n",
    "                cast = [cast[i].replace(j, \"\") for i,j in enumerate([\"Director:\", \"Stars:\"])]\n",
    "                Director.append(cast[0])\n",
    "                Stars.append(cast[1]) \n",
    "            except IndexError or AttributeError:\n",
    "                Director.append(np.nan)\n",
    "                Stars.append(np.nan) \n",
    "        except AttributeError or IndexError:\n",
    "            Director.append(np.nan)\n",
    "            Stars.append(np.nan) \n",
    "            \n",
    "        \n",
    "        try:\n",
    "            gener=i.find('span',{'class':'genre'}).text.strip()\n",
    "            Gener.append(gener) \n",
    "        except AttributeError:\n",
    "            Gener.append(np.nan) "
   ]
  },
  {
   "cell_type": "code",
   "execution_count": 36,
   "id": "60062a90",
   "metadata": {},
   "outputs": [],
   "source": [
    "movies_df_2006 = pd.DataFrame({'Name_of_Movies':movies_name,'Year_Of_Relese':year,'Ratings':rating,\n",
    "                          'Description':description,'Director':Director,'Stars':Stars,'Gener':Gener})"
   ]
  },
  {
   "cell_type": "code",
   "execution_count": 37,
   "id": "e5b25456",
   "metadata": {},
   "outputs": [
    {
     "name": "stdout",
     "output_type": "stream",
     "text": [
      "1000\n",
      "1000\n",
      "1000\n",
      "1000\n",
      "1000\n",
      "1000\n",
      "1000\n"
     ]
    }
   ],
   "source": [
    "print(len(movies_name))\n",
    "print(len(year))\n",
    "print(len(rating))\n",
    "print(len(description))\n",
    "print(len(Director))\n",
    "print(len(Stars))\n",
    "print(len(Gener))"
   ]
  },
  {
   "cell_type": "code",
   "execution_count": 38,
   "id": "d43bb54e",
   "metadata": {},
   "outputs": [
    {
     "data": {
      "text/plain": [
       "Name_of_Movies    0\n",
       "Year_Of_Relese    0\n",
       "Ratings           2\n",
       "Description       0\n",
       "Director          2\n",
       "Stars             2\n",
       "Gener             0\n",
       "dtype: int64"
      ]
     },
     "execution_count": 38,
     "metadata": {},
     "output_type": "execute_result"
    }
   ],
   "source": [
    "movies_df_2006.isnull().sum()"
   ]
  },
  {
   "cell_type": "code",
   "execution_count": null,
   "id": "9ed032d5",
   "metadata": {},
   "outputs": [],
   "source": []
  },
  {
   "cell_type": "code",
   "execution_count": null,
   "id": "c10fc0db",
   "metadata": {},
   "outputs": [],
   "source": []
  },
  {
   "cell_type": "markdown",
   "id": "76da320c",
   "metadata": {},
   "source": [
    "## 2007"
   ]
  },
  {
   "cell_type": "code",
   "execution_count": null,
   "id": "0576a038",
   "metadata": {},
   "outputs": [],
   "source": []
  },
  {
   "cell_type": "code",
   "execution_count": 39,
   "id": "fc6d5ff6",
   "metadata": {},
   "outputs": [],
   "source": [
    "movies_name=[]\n",
    "year=[]\n",
    "rating=[]\n",
    "description=[]\n",
    "Director=[]\n",
    "Stars=[]\n",
    "Gener=[]"
   ]
  },
  {
   "cell_type": "code",
   "execution_count": 40,
   "id": "ef889237",
   "metadata": {},
   "outputs": [],
   "source": [
    "for page in pages:\n",
    "    my_url = requests.get(f'https://www.imdb.com/search/title/?title_type=feature&year=2007-01-01,2007-12-31&start={str(page)}&ref_=adv_nxt')\n",
    "    page_html= my_url.content \n",
    "    page_soup=soup(page_html,\"html.parser\") \n",
    "    containers= page_soup.findAll(\"div\", {\"class\": \"lister-item mode-advanced\"}) \n",
    "    sleep(randint(2,8))\n",
    "    for i in containers: \n",
    "        name=i.h3.a.text\n",
    "        movies_name.append(name)\n",
    "        \n",
    "        year_of_relese= i.h3.find('span', {\"class\": \"lister-item-year\"}).text.replace('(', '').replace(')', '')\n",
    "        year.append(year_of_relese)\n",
    "        \n",
    "        des=i.findAll('p',class_='text-muted')[1].text.strip('\\n')\n",
    "        description.append(des)\n",
    "        \n",
    "        try:\n",
    "            rate = i.find('div', class_ = \"inline-block ratings-imdb-rating\").text.replace('\\n','')\n",
    "            rating.append(rate)\n",
    "        except AttributeError:\n",
    "            rating.append(np.nan)\n",
    "            \n",
    "        \n",
    "        try:\n",
    "            cast=i.find('p',class_='').text.replace('\\n', '').split('|')\n",
    "            cast = [x.strip() for x in cast]\n",
    "            try:\n",
    "                cast = [cast[i].replace(j, \"\") for i,j in enumerate([\"Director:\", \"Stars:\"])]\n",
    "                Director.append(cast[0])\n",
    "                Stars.append(cast[1]) \n",
    "            except IndexError or AttributeError:\n",
    "                Director.append(np.nan)\n",
    "                Stars.append(np.nan) \n",
    "        except AttributeError or IndexError:\n",
    "            Director.append(np.nan)\n",
    "            Stars.append(np.nan) \n",
    "            \n",
    "        \n",
    "        try:\n",
    "            gener=i.find('span',{'class':'genre'}).text.strip()\n",
    "            Gener.append(gener) \n",
    "        except AttributeError:\n",
    "            Gener.append(np.nan) "
   ]
  },
  {
   "cell_type": "code",
   "execution_count": 41,
   "id": "32315c70",
   "metadata": {},
   "outputs": [],
   "source": [
    "movies_df_2007 = pd.DataFrame({'Name_of_Movies':movies_name,'Year_Of_Relese':year,'Ratings':rating,\n",
    "                          'Description':description,'Director':Director,'Stars':Stars,'Gener':Gener})"
   ]
  },
  {
   "cell_type": "code",
   "execution_count": 42,
   "id": "2cdc96c9",
   "metadata": {},
   "outputs": [
    {
     "name": "stdout",
     "output_type": "stream",
     "text": [
      "1000\n",
      "1000\n",
      "1000\n",
      "1000\n",
      "1000\n",
      "1000\n",
      "1000\n"
     ]
    }
   ],
   "source": [
    "print(len(movies_name))\n",
    "print(len(year))\n",
    "print(len(rating))\n",
    "print(len(description))\n",
    "print(len(Director))\n",
    "print(len(Stars))\n",
    "print(len(Gener))"
   ]
  },
  {
   "cell_type": "code",
   "execution_count": 43,
   "id": "878a9601",
   "metadata": {},
   "outputs": [
    {
     "data": {
      "text/plain": [
       "Name_of_Movies    0\n",
       "Year_Of_Relese    0\n",
       "Ratings           1\n",
       "Description       0\n",
       "Director          1\n",
       "Stars             1\n",
       "Gener             3\n",
       "dtype: int64"
      ]
     },
     "execution_count": 43,
     "metadata": {},
     "output_type": "execute_result"
    }
   ],
   "source": [
    "movies_df_2007.isnull().sum()"
   ]
  },
  {
   "cell_type": "code",
   "execution_count": null,
   "id": "1b234a9b",
   "metadata": {},
   "outputs": [],
   "source": []
  },
  {
   "cell_type": "code",
   "execution_count": null,
   "id": "6e987387",
   "metadata": {},
   "outputs": [],
   "source": []
  },
  {
   "cell_type": "markdown",
   "id": "aa5054d2",
   "metadata": {},
   "source": [
    "## 2008"
   ]
  },
  {
   "cell_type": "code",
   "execution_count": null,
   "id": "47b9e097",
   "metadata": {},
   "outputs": [],
   "source": []
  },
  {
   "cell_type": "code",
   "execution_count": 44,
   "id": "d8c62673",
   "metadata": {},
   "outputs": [],
   "source": [
    "movies_name=[]\n",
    "year=[]\n",
    "rating=[]\n",
    "description=[]\n",
    "Director=[]\n",
    "Stars=[]\n",
    "Gener=[]"
   ]
  },
  {
   "cell_type": "code",
   "execution_count": 45,
   "id": "80469149",
   "metadata": {},
   "outputs": [],
   "source": [
    "for page in pages:\n",
    "    my_url = requests.get(f'https://www.imdb.com/search/title/?title_type=feature&year=2008-01-01,2008-12-31&start={str(page)}&ref_=adv_nxt')\n",
    "    page_html= my_url.content \n",
    "    page_soup=soup(page_html,\"html.parser\") \n",
    "    containers= page_soup.findAll(\"div\", {\"class\": \"lister-item mode-advanced\"}) \n",
    "    sleep(randint(2,8))\n",
    "    for i in containers: \n",
    "        name=i.h3.a.text\n",
    "        movies_name.append(name)\n",
    "        \n",
    "        year_of_relese= i.h3.find('span', {\"class\": \"lister-item-year\"}).text.replace('(', '').replace(')', '')\n",
    "        year.append(year_of_relese)\n",
    "        \n",
    "        des=i.findAll('p',class_='text-muted')[1].text.strip('\\n')\n",
    "        description.append(des)\n",
    "        \n",
    "        try:\n",
    "            rate = i.find('div', class_ = \"inline-block ratings-imdb-rating\").text.replace('\\n','')\n",
    "            rating.append(rate)\n",
    "        except AttributeError:\n",
    "            rating.append(np.nan)\n",
    "            \n",
    "        \n",
    "        try:\n",
    "            cast=i.find('p',class_='').text.replace('\\n', '').split('|')\n",
    "            cast = [x.strip() for x in cast]\n",
    "            try:\n",
    "                cast = [cast[i].replace(j, \"\") for i,j in enumerate([\"Director:\", \"Stars:\"])]\n",
    "                Director.append(cast[0])\n",
    "                Stars.append(cast[1]) \n",
    "            except IndexError or AttributeError:\n",
    "                Director.append(np.nan)\n",
    "                Stars.append(np.nan) \n",
    "        except AttributeError or IndexError:\n",
    "            Director.append(np.nan)\n",
    "            Stars.append(np.nan) \n",
    "            \n",
    "        \n",
    "        try:\n",
    "            gener=i.find('span',{'class':'genre'}).text.strip()\n",
    "            Gener.append(gener) \n",
    "        except AttributeError:\n",
    "            Gener.append(np.nan) "
   ]
  },
  {
   "cell_type": "code",
   "execution_count": 46,
   "id": "4d274edd",
   "metadata": {},
   "outputs": [],
   "source": [
    "movies_df_2008 = pd.DataFrame({'Name_of_Movies':movies_name,'Year_Of_Relese':year,'Ratings':rating,\n",
    "                          'Description':description,'Director':Director,'Stars':Stars,'Gener':Gener})"
   ]
  },
  {
   "cell_type": "code",
   "execution_count": 47,
   "id": "7ac1df09",
   "metadata": {},
   "outputs": [
    {
     "name": "stdout",
     "output_type": "stream",
     "text": [
      "1000\n",
      "1000\n",
      "1000\n",
      "1000\n",
      "1000\n",
      "1000\n",
      "1000\n"
     ]
    }
   ],
   "source": [
    "print(len(movies_name))\n",
    "print(len(year))\n",
    "print(len(rating))\n",
    "print(len(description))\n",
    "print(len(Director))\n",
    "print(len(Stars))\n",
    "print(len(Gener))"
   ]
  },
  {
   "cell_type": "code",
   "execution_count": 48,
   "id": "cf9b59d6",
   "metadata": {},
   "outputs": [
    {
     "data": {
      "text/plain": [
       "Name_of_Movies    0\n",
       "Year_Of_Relese    0\n",
       "Ratings           4\n",
       "Description       0\n",
       "Director          3\n",
       "Stars             3\n",
       "Gener             2\n",
       "dtype: int64"
      ]
     },
     "execution_count": 48,
     "metadata": {},
     "output_type": "execute_result"
    }
   ],
   "source": [
    "movies_df_2008.isnull().sum()"
   ]
  },
  {
   "cell_type": "code",
   "execution_count": null,
   "id": "c7964b7c",
   "metadata": {},
   "outputs": [],
   "source": []
  },
  {
   "cell_type": "markdown",
   "id": "ffd0d80d",
   "metadata": {},
   "source": [
    "## 2009"
   ]
  },
  {
   "cell_type": "code",
   "execution_count": null,
   "id": "818bae71",
   "metadata": {},
   "outputs": [],
   "source": []
  },
  {
   "cell_type": "code",
   "execution_count": 49,
   "id": "90b9b8ae",
   "metadata": {},
   "outputs": [],
   "source": [
    "movies_name=[]\n",
    "year=[]\n",
    "rating=[]\n",
    "description=[]\n",
    "Director=[]\n",
    "Stars=[]\n",
    "Gener=[]"
   ]
  },
  {
   "cell_type": "code",
   "execution_count": 50,
   "id": "b8569fb2",
   "metadata": {},
   "outputs": [],
   "source": [
    "for page in pages:\n",
    "    my_url = requests.get(f'https://www.imdb.com/search/title/?title_type=feature&year=2009-01-01,2009-12-31&start={str(page)}&ref_=adv_nxt')\n",
    "    page_html= my_url.content \n",
    "    page_soup=soup(page_html,\"html.parser\") \n",
    "    containers= page_soup.findAll(\"div\", {\"class\": \"lister-item mode-advanced\"}) \n",
    "    sleep(randint(2,8))\n",
    "    for i in containers: \n",
    "        name=i.h3.a.text\n",
    "        movies_name.append(name)\n",
    "        \n",
    "        year_of_relese= i.h3.find('span', {\"class\": \"lister-item-year\"}).text.replace('(', '').replace(')', '')\n",
    "        year.append(year_of_relese)\n",
    "        \n",
    "        des=i.findAll('p',class_='text-muted')[1].text.strip('\\n')\n",
    "        description.append(des)\n",
    "        \n",
    "        try:\n",
    "            rate = i.find('div', class_ = \"inline-block ratings-imdb-rating\").text.replace('\\n','')\n",
    "            rating.append(rate)\n",
    "        except AttributeError:\n",
    "            rating.append(np.nan)\n",
    "            \n",
    "        \n",
    "        try:\n",
    "            cast=i.find('p',class_='').text.replace('\\n', '').split('|')\n",
    "            cast = [x.strip() for x in cast]\n",
    "            try:\n",
    "                cast = [cast[i].replace(j, \"\") for i,j in enumerate([\"Director:\", \"Stars:\"])]\n",
    "                Director.append(cast[0])\n",
    "                Stars.append(cast[1]) \n",
    "            except IndexError or AttributeError:\n",
    "                Director.append(np.nan)\n",
    "                Stars.append(np.nan) \n",
    "        except AttributeError or IndexError:\n",
    "            Director.append(np.nan)\n",
    "            Stars.append(np.nan) \n",
    "            \n",
    "        \n",
    "        try:\n",
    "            gener=i.find('span',{'class':'genre'}).text.strip()\n",
    "            Gener.append(gener) \n",
    "        except AttributeError:\n",
    "            Gener.append(np.nan) "
   ]
  },
  {
   "cell_type": "code",
   "execution_count": 51,
   "id": "c98cfd8f",
   "metadata": {},
   "outputs": [],
   "source": [
    "movies_df_2009 = pd.DataFrame({'Name_of_Movies':movies_name,'Year_Of_Relese':year,'Ratings':rating,\n",
    "                          'Description':description,'Director':Director,'Stars':Stars,'Gener':Gener})"
   ]
  },
  {
   "cell_type": "code",
   "execution_count": 52,
   "id": "c69a69a7",
   "metadata": {},
   "outputs": [
    {
     "name": "stdout",
     "output_type": "stream",
     "text": [
      "1000\n",
      "1000\n",
      "1000\n",
      "1000\n",
      "1000\n",
      "1000\n",
      "1000\n"
     ]
    }
   ],
   "source": [
    "print(len(movies_name))\n",
    "print(len(year))\n",
    "print(len(rating))\n",
    "print(len(description))\n",
    "print(len(Director))\n",
    "print(len(Stars))\n",
    "print(len(Gener))"
   ]
  },
  {
   "cell_type": "code",
   "execution_count": 53,
   "id": "69d80554",
   "metadata": {},
   "outputs": [
    {
     "data": {
      "text/plain": [
       "Name_of_Movies    0\n",
       "Year_Of_Relese    0\n",
       "Ratings           1\n",
       "Description       0\n",
       "Director          0\n",
       "Stars             0\n",
       "Gener             2\n",
       "dtype: int64"
      ]
     },
     "execution_count": 53,
     "metadata": {},
     "output_type": "execute_result"
    }
   ],
   "source": [
    "movies_df_2009.isnull().sum()"
   ]
  },
  {
   "cell_type": "code",
   "execution_count": null,
   "id": "1176d951",
   "metadata": {},
   "outputs": [],
   "source": []
  },
  {
   "cell_type": "markdown",
   "id": "5d44b347",
   "metadata": {},
   "source": [
    "## 2010"
   ]
  },
  {
   "cell_type": "code",
   "execution_count": null,
   "id": "910de2dc",
   "metadata": {},
   "outputs": [],
   "source": []
  },
  {
   "cell_type": "code",
   "execution_count": 54,
   "id": "6f7e1d52",
   "metadata": {},
   "outputs": [],
   "source": [
    "movies_name=[]\n",
    "year=[]\n",
    "rating=[]\n",
    "description=[]\n",
    "Director=[]\n",
    "Stars=[]\n",
    "Gener=[]"
   ]
  },
  {
   "cell_type": "code",
   "execution_count": 55,
   "id": "3842b3da",
   "metadata": {},
   "outputs": [],
   "source": [
    "for page in pages:\n",
    "    my_url = requests.get(f'https://www.imdb.com/search/title/?title_type=feature&year=2010-01-01,2010-12-31&start={str(page)}&ref_=adv_nxt')\n",
    "    page_html= my_url.content \n",
    "    page_soup=soup(page_html,\"html.parser\") \n",
    "    containers= page_soup.findAll(\"div\", {\"class\": \"lister-item mode-advanced\"}) \n",
    "    sleep(randint(2,8))\n",
    "    for i in containers: \n",
    "        name=i.h3.a.text\n",
    "        movies_name.append(name)\n",
    "        \n",
    "        year_of_relese= i.h3.find('span', {\"class\": \"lister-item-year\"}).text.replace('(', '').replace(')', '')\n",
    "        year.append(year_of_relese)\n",
    "        \n",
    "        des=i.findAll('p',class_='text-muted')[1].text.strip('\\n')\n",
    "        description.append(des)\n",
    "        \n",
    "        try:\n",
    "            rate = i.find('div', class_ = \"inline-block ratings-imdb-rating\").text.replace('\\n','')\n",
    "            rating.append(rate)\n",
    "        except AttributeError:\n",
    "            rating.append(np.nan)\n",
    "            \n",
    "        \n",
    "        try:\n",
    "            cast=i.find('p',class_='').text.replace('\\n', '').split('|')\n",
    "            cast = [x.strip() for x in cast]\n",
    "            try:\n",
    "                cast = [cast[i].replace(j, \"\") for i,j in enumerate([\"Director:\", \"Stars:\"])]\n",
    "                Director.append(cast[0])\n",
    "                Stars.append(cast[1]) \n",
    "            except IndexError or AttributeError:\n",
    "                Director.append(np.nan)\n",
    "                Stars.append(np.nan) \n",
    "        except AttributeError or IndexError:\n",
    "            Director.append(np.nan)\n",
    "            Stars.append(np.nan) \n",
    "            \n",
    "        \n",
    "        try:\n",
    "            gener=i.find('span',{'class':'genre'}).text.strip()\n",
    "            Gener.append(gener) \n",
    "        except AttributeError:\n",
    "            Gener.append(np.nan) "
   ]
  },
  {
   "cell_type": "code",
   "execution_count": 56,
   "id": "1d213a8d",
   "metadata": {},
   "outputs": [],
   "source": [
    "movies_df_2010 = pd.DataFrame({'Name_of_Movies':movies_name,'Year_Of_Relese':year,'Ratings':rating,\n",
    "                          'Description':description,'Director':Director,'Stars':Stars,'Gener':Gener})"
   ]
  },
  {
   "cell_type": "code",
   "execution_count": 57,
   "id": "cea5c83a",
   "metadata": {},
   "outputs": [
    {
     "name": "stdout",
     "output_type": "stream",
     "text": [
      "1000\n",
      "1000\n",
      "1000\n",
      "1000\n",
      "1000\n",
      "1000\n",
      "1000\n"
     ]
    }
   ],
   "source": [
    "print(len(movies_name))\n",
    "print(len(year))\n",
    "print(len(rating))\n",
    "print(len(description))\n",
    "print(len(Director))\n",
    "print(len(Stars))\n",
    "print(len(Gener))"
   ]
  },
  {
   "cell_type": "code",
   "execution_count": 58,
   "id": "614b8283",
   "metadata": {},
   "outputs": [
    {
     "data": {
      "text/plain": [
       "Name_of_Movies    0\n",
       "Year_Of_Relese    0\n",
       "Ratings           0\n",
       "Description       0\n",
       "Director          1\n",
       "Stars             1\n",
       "Gener             0\n",
       "dtype: int64"
      ]
     },
     "execution_count": 58,
     "metadata": {},
     "output_type": "execute_result"
    }
   ],
   "source": [
    "movies_df_2010.isnull().sum()"
   ]
  },
  {
   "cell_type": "code",
   "execution_count": null,
   "id": "08761823",
   "metadata": {},
   "outputs": [],
   "source": []
  },
  {
   "cell_type": "markdown",
   "id": "1e111384",
   "metadata": {},
   "source": [
    "## 2011"
   ]
  },
  {
   "cell_type": "markdown",
   "id": "c2891367",
   "metadata": {},
   "source": []
  },
  {
   "cell_type": "code",
   "execution_count": 59,
   "id": "428e140e",
   "metadata": {},
   "outputs": [],
   "source": [
    "movies_name=[]\n",
    "year=[]\n",
    "rating=[]\n",
    "description=[]\n",
    "Director=[]\n",
    "Stars=[]\n",
    "Gener=[]"
   ]
  },
  {
   "cell_type": "code",
   "execution_count": 60,
   "id": "6cc1d970",
   "metadata": {},
   "outputs": [],
   "source": [
    "for page in pages:\n",
    "    my_url = requests.get(f'https://www.imdb.com/search/title/?title_type=feature&year=2011-01-01,2011-12-31&start={str(page)}&ref_=adv_nxt')\n",
    "    page_html= my_url.content \n",
    "    page_soup=soup(page_html,\"html.parser\") \n",
    "    containers= page_soup.findAll(\"div\", {\"class\": \"lister-item mode-advanced\"}) \n",
    "    sleep(randint(2,8))\n",
    "    for i in containers: \n",
    "        name=i.h3.a.text\n",
    "        movies_name.append(name)\n",
    "        \n",
    "        year_of_relese= i.h3.find('span', {\"class\": \"lister-item-year\"}).text.replace('(', '').replace(')', '')\n",
    "        year.append(year_of_relese)\n",
    "        \n",
    "        des=i.findAll('p',class_='text-muted')[1].text.strip('\\n')\n",
    "        description.append(des)\n",
    "        \n",
    "        try:\n",
    "            rate = i.find('div', class_ = \"inline-block ratings-imdb-rating\").text.replace('\\n','')\n",
    "            rating.append(rate)\n",
    "        except AttributeError:\n",
    "            rating.append(np.nan)\n",
    "            \n",
    "        \n",
    "        try:\n",
    "            cast=i.find('p',class_='').text.replace('\\n', '').split('|')\n",
    "            cast = [x.strip() for x in cast]\n",
    "            try:\n",
    "                cast = [cast[i].replace(j, \"\") for i,j in enumerate([\"Director:\", \"Stars:\"])]\n",
    "                Director.append(cast[0])\n",
    "                Stars.append(cast[1]) \n",
    "            except IndexError or AttributeError:\n",
    "                Director.append(np.nan)\n",
    "                Stars.append(np.nan) \n",
    "        except AttributeError or IndexError:\n",
    "            Director.append(np.nan)\n",
    "            Stars.append(np.nan) \n",
    "            \n",
    "        \n",
    "        try:\n",
    "            gener=i.find('span',{'class':'genre'}).text.strip()\n",
    "            Gener.append(gener) \n",
    "        except AttributeError:\n",
    "            Gener.append(np.nan) "
   ]
  },
  {
   "cell_type": "code",
   "execution_count": 61,
   "id": "cb045e7a",
   "metadata": {},
   "outputs": [],
   "source": [
    "movies_df_2011 = pd.DataFrame({'Name_of_Movies':movies_name,'Year_Of_Relese':year,'Ratings':rating,\n",
    "                          'Description':description,'Director':Director,'Stars':Stars,'Gener':Gener})"
   ]
  },
  {
   "cell_type": "code",
   "execution_count": 62,
   "id": "1e0a0517",
   "metadata": {},
   "outputs": [
    {
     "name": "stdout",
     "output_type": "stream",
     "text": [
      "1000\n",
      "1000\n",
      "1000\n",
      "1000\n",
      "1000\n",
      "1000\n",
      "1000\n"
     ]
    }
   ],
   "source": [
    "print(len(movies_name))\n",
    "print(len(year))\n",
    "print(len(rating))\n",
    "print(len(description))\n",
    "print(len(Director))\n",
    "print(len(Stars))\n",
    "print(len(Gener))"
   ]
  },
  {
   "cell_type": "code",
   "execution_count": 63,
   "id": "8c56c874",
   "metadata": {},
   "outputs": [
    {
     "data": {
      "text/plain": [
       "Name_of_Movies    0\n",
       "Year_Of_Relese    0\n",
       "Ratings           1\n",
       "Description       0\n",
       "Director          1\n",
       "Stars             1\n",
       "Gener             0\n",
       "dtype: int64"
      ]
     },
     "execution_count": 63,
     "metadata": {},
     "output_type": "execute_result"
    }
   ],
   "source": [
    "movies_df_2011.isnull().sum()"
   ]
  },
  {
   "cell_type": "code",
   "execution_count": null,
   "id": "c7fea102",
   "metadata": {},
   "outputs": [],
   "source": []
  },
  {
   "cell_type": "code",
   "execution_count": null,
   "id": "68e6cc94",
   "metadata": {},
   "outputs": [],
   "source": []
  },
  {
   "cell_type": "markdown",
   "id": "b00c0ff7",
   "metadata": {},
   "source": [
    "## 2012"
   ]
  },
  {
   "cell_type": "code",
   "execution_count": null,
   "id": "6d516d0c",
   "metadata": {},
   "outputs": [],
   "source": []
  },
  {
   "cell_type": "code",
   "execution_count": 64,
   "id": "f594d951",
   "metadata": {},
   "outputs": [],
   "source": [
    "movies_name=[]\n",
    "year=[]\n",
    "rating=[]\n",
    "description=[]\n",
    "Director=[]\n",
    "Stars=[]\n",
    "Gener=[]"
   ]
  },
  {
   "cell_type": "code",
   "execution_count": 65,
   "id": "a7866a6e",
   "metadata": {},
   "outputs": [],
   "source": [
    "for page in pages:\n",
    "    my_url = requests.get(f'https://www.imdb.com/search/title/?title_type=feature&year=2012-01-01,2012-12-31&start={str(page)}&ref_=adv_nxt')\n",
    "    page_html= my_url.content \n",
    "    page_soup=soup(page_html,\"html.parser\") \n",
    "    containers= page_soup.findAll(\"div\", {\"class\": \"lister-item mode-advanced\"}) \n",
    "    sleep(randint(2,8))\n",
    "    for i in containers: \n",
    "        name=i.h3.a.text\n",
    "        movies_name.append(name)\n",
    "        \n",
    "        year_of_relese= i.h3.find('span', {\"class\": \"lister-item-year\"}).text.replace('(', '').replace(')', '')\n",
    "        year.append(year_of_relese)\n",
    "        \n",
    "        des=i.findAll('p',class_='text-muted')[1].text.strip('\\n')\n",
    "        description.append(des)\n",
    "        \n",
    "        try:\n",
    "            rate = i.find('div', class_ = \"inline-block ratings-imdb-rating\").text.replace('\\n','')\n",
    "            rating.append(rate)\n",
    "        except AttributeError:\n",
    "            rating.append(np.nan)\n",
    "            \n",
    "        \n",
    "        try:\n",
    "            cast=i.find('p',class_='').text.replace('\\n', '').split('|')\n",
    "            cast = [x.strip() for x in cast]\n",
    "            try:\n",
    "                cast = [cast[i].replace(j, \"\") for i,j in enumerate([\"Director:\", \"Stars:\"])]\n",
    "                Director.append(cast[0])\n",
    "                Stars.append(cast[1]) \n",
    "            except IndexError or AttributeError:\n",
    "                Director.append(np.nan)\n",
    "                Stars.append(np.nan) \n",
    "        except AttributeError or IndexError:\n",
    "            Director.append(np.nan)\n",
    "            Stars.append(np.nan) \n",
    "            \n",
    "        \n",
    "        try:\n",
    "            gener=i.find('span',{'class':'genre'}).text.strip()\n",
    "            Gener.append(gener) \n",
    "        except AttributeError:\n",
    "            Gener.append(np.nan) "
   ]
  },
  {
   "cell_type": "code",
   "execution_count": 66,
   "id": "c947679d",
   "metadata": {},
   "outputs": [],
   "source": [
    "movies_df_2012 = pd.DataFrame({'Name_of_Movies':movies_name,'Year_Of_Relese':year,'Ratings':rating,\n",
    "                          'Description':description,'Director':Director,'Stars':Stars,'Gener':Gener})"
   ]
  },
  {
   "cell_type": "code",
   "execution_count": 67,
   "id": "8b40e74e",
   "metadata": {},
   "outputs": [
    {
     "name": "stdout",
     "output_type": "stream",
     "text": [
      "1000\n",
      "1000\n",
      "1000\n",
      "1000\n",
      "1000\n",
      "1000\n",
      "1000\n"
     ]
    }
   ],
   "source": [
    "print(len(movies_name))\n",
    "print(len(year))\n",
    "print(len(rating))\n",
    "print(len(description))\n",
    "print(len(Director))\n",
    "print(len(Stars))\n",
    "print(len(Gener))"
   ]
  },
  {
   "cell_type": "code",
   "execution_count": 68,
   "id": "db2c53af",
   "metadata": {},
   "outputs": [
    {
     "data": {
      "text/plain": [
       "Name_of_Movies    0\n",
       "Year_Of_Relese    0\n",
       "Ratings           1\n",
       "Description       0\n",
       "Director          2\n",
       "Stars             2\n",
       "Gener             1\n",
       "dtype: int64"
      ]
     },
     "execution_count": 68,
     "metadata": {},
     "output_type": "execute_result"
    }
   ],
   "source": [
    "movies_df_2012.isnull().sum()"
   ]
  },
  {
   "cell_type": "code",
   "execution_count": null,
   "id": "73a1584e",
   "metadata": {},
   "outputs": [],
   "source": []
  },
  {
   "cell_type": "code",
   "execution_count": null,
   "id": "fb71943f",
   "metadata": {},
   "outputs": [],
   "source": []
  },
  {
   "cell_type": "markdown",
   "id": "e22cca15",
   "metadata": {},
   "source": [
    "## 2013"
   ]
  },
  {
   "cell_type": "code",
   "execution_count": null,
   "id": "a8f9cf18",
   "metadata": {},
   "outputs": [],
   "source": []
  },
  {
   "cell_type": "code",
   "execution_count": 69,
   "id": "232fefe3",
   "metadata": {},
   "outputs": [],
   "source": [
    "movies_name=[]\n",
    "year=[]\n",
    "rating=[]\n",
    "description=[]\n",
    "Director=[]\n",
    "Stars=[]\n",
    "Gener=[]"
   ]
  },
  {
   "cell_type": "code",
   "execution_count": 70,
   "id": "1ddf7f91",
   "metadata": {},
   "outputs": [],
   "source": [
    "for page in pages:\n",
    "    my_url = requests.get(f'https://www.imdb.com/search/title/?title_type=feature&year=2013-01-01,2013-12-31&start={str(page)}&ref_=adv_nxt')\n",
    "    page_html= my_url.content \n",
    "    page_soup=soup(page_html,\"html.parser\") \n",
    "    containers= page_soup.findAll(\"div\", {\"class\": \"lister-item mode-advanced\"}) \n",
    "    sleep(randint(2,8))\n",
    "    for i in containers: \n",
    "        name=i.h3.a.text\n",
    "        movies_name.append(name)\n",
    "        \n",
    "        year_of_relese= i.h3.find('span', {\"class\": \"lister-item-year\"}).text.replace('(', '').replace(')', '')\n",
    "        year.append(year_of_relese)\n",
    "        \n",
    "        des=i.findAll('p',class_='text-muted')[1].text.strip('\\n')\n",
    "        description.append(des)\n",
    "        \n",
    "        try:\n",
    "            rate = i.find('div', class_ = \"inline-block ratings-imdb-rating\").text.replace('\\n','')\n",
    "            rating.append(rate)\n",
    "        except AttributeError:\n",
    "            rating.append(np.nan)\n",
    "            \n",
    "        \n",
    "        try:\n",
    "            cast=i.find('p',class_='').text.replace('\\n', '').split('|')\n",
    "            cast = [x.strip() for x in cast]\n",
    "            try:\n",
    "                cast = [cast[i].replace(j, \"\") for i,j in enumerate([\"Director:\", \"Stars:\"])]\n",
    "                Director.append(cast[0])\n",
    "                Stars.append(cast[1]) \n",
    "            except IndexError or AttributeError:\n",
    "                Director.append(np.nan)\n",
    "                Stars.append(np.nan) \n",
    "        except AttributeError or IndexError:\n",
    "            Director.append(np.nan)\n",
    "            Stars.append(np.nan) \n",
    "            \n",
    "        \n",
    "        try:\n",
    "            gener=i.find('span',{'class':'genre'}).text.strip()\n",
    "            Gener.append(gener) \n",
    "        except AttributeError:\n",
    "            Gener.append(np.nan) "
   ]
  },
  {
   "cell_type": "code",
   "execution_count": 71,
   "id": "d21e8966",
   "metadata": {},
   "outputs": [],
   "source": [
    "movies_df_2013 = pd.DataFrame({'Name_of_Movies':movies_name,'Year_Of_Relese':year,'Ratings':rating,\n",
    "                          'Description':description,'Director':Director,'Stars':Stars,'Gener':Gener})"
   ]
  },
  {
   "cell_type": "code",
   "execution_count": 72,
   "id": "2ed6aa6a",
   "metadata": {},
   "outputs": [
    {
     "name": "stdout",
     "output_type": "stream",
     "text": [
      "1000\n",
      "1000\n",
      "1000\n",
      "1000\n",
      "1000\n",
      "1000\n",
      "1000\n"
     ]
    }
   ],
   "source": [
    "print(len(movies_name))\n",
    "print(len(year))\n",
    "print(len(rating))\n",
    "print(len(description))\n",
    "print(len(Director))\n",
    "print(len(Stars))\n",
    "print(len(Gener))"
   ]
  },
  {
   "cell_type": "code",
   "execution_count": 73,
   "id": "989e9c13",
   "metadata": {},
   "outputs": [
    {
     "data": {
      "text/plain": [
       "Name_of_Movies    0\n",
       "Year_Of_Relese    0\n",
       "Ratings           0\n",
       "Description       0\n",
       "Director          1\n",
       "Stars             1\n",
       "Gener             0\n",
       "dtype: int64"
      ]
     },
     "execution_count": 73,
     "metadata": {},
     "output_type": "execute_result"
    }
   ],
   "source": [
    "movies_df_2013.isnull().sum()"
   ]
  },
  {
   "cell_type": "code",
   "execution_count": null,
   "id": "38b071e0",
   "metadata": {},
   "outputs": [],
   "source": []
  },
  {
   "cell_type": "markdown",
   "id": "83897305",
   "metadata": {},
   "source": [
    "## 2014"
   ]
  },
  {
   "cell_type": "code",
   "execution_count": null,
   "id": "8ba8befe",
   "metadata": {},
   "outputs": [],
   "source": []
  },
  {
   "cell_type": "code",
   "execution_count": 74,
   "id": "105d1e56",
   "metadata": {},
   "outputs": [],
   "source": [
    "movies_name=[]\n",
    "year=[]\n",
    "rating=[]\n",
    "description=[]\n",
    "Director=[]\n",
    "Stars=[]\n",
    "Gener=[]"
   ]
  },
  {
   "cell_type": "code",
   "execution_count": 75,
   "id": "cd7b35a4",
   "metadata": {},
   "outputs": [],
   "source": [
    "for page in pages:\n",
    "    my_url = requests.get(f'https://www.imdb.com/search/title/?title_type=feature&year=2014-01-01,2014-12-31&start={str(page)}&ref_=adv_nxt')\n",
    "    page_html= my_url.content \n",
    "    page_soup=soup(page_html,\"html.parser\") \n",
    "    containers= page_soup.findAll(\"div\", {\"class\": \"lister-item mode-advanced\"}) \n",
    "    sleep(randint(2,8))\n",
    "    for i in containers: \n",
    "        name=i.h3.a.text\n",
    "        movies_name.append(name)\n",
    "        \n",
    "        year_of_relese= i.h3.find('span', {\"class\": \"lister-item-year\"}).text.replace('(', '').replace(')', '')\n",
    "        year.append(year_of_relese)\n",
    "        \n",
    "        des=i.findAll('p',class_='text-muted')[1].text.strip('\\n')\n",
    "        description.append(des)\n",
    "        \n",
    "        try:\n",
    "            rate = i.find('div', class_ = \"inline-block ratings-imdb-rating\").text.replace('\\n','')\n",
    "            rating.append(rate)\n",
    "        except AttributeError:\n",
    "            rating.append(np.nan)\n",
    "            \n",
    "        \n",
    "        try:\n",
    "            cast=i.find('p',class_='').text.replace('\\n', '').split('|')\n",
    "            cast = [x.strip() for x in cast]\n",
    "            try:\n",
    "                cast = [cast[i].replace(j, \"\") for i,j in enumerate([\"Director:\", \"Stars:\"])]\n",
    "                Director.append(cast[0])\n",
    "                Stars.append(cast[1]) \n",
    "            except IndexError or AttributeError:\n",
    "                Director.append(np.nan)\n",
    "                Stars.append(np.nan) \n",
    "        except AttributeError or IndexError:\n",
    "            Director.append(np.nan)\n",
    "            Stars.append(np.nan) \n",
    "            \n",
    "        \n",
    "        try:\n",
    "            gener=i.find('span',{'class':'genre'}).text.strip()\n",
    "            Gener.append(gener) \n",
    "        except AttributeError:\n",
    "            Gener.append(np.nan) "
   ]
  },
  {
   "cell_type": "code",
   "execution_count": 76,
   "id": "7a94e682",
   "metadata": {},
   "outputs": [],
   "source": [
    "movies_df_2014 = pd.DataFrame({'Name_of_Movies':movies_name,'Year_Of_Relese':year,'Ratings':rating,\n",
    "                          'Description':description,'Director':Director,'Stars':Stars,'Gener':Gener})"
   ]
  },
  {
   "cell_type": "code",
   "execution_count": 77,
   "id": "a267f6c5",
   "metadata": {},
   "outputs": [
    {
     "name": "stdout",
     "output_type": "stream",
     "text": [
      "1000\n",
      "1000\n",
      "1000\n",
      "1000\n",
      "1000\n",
      "1000\n",
      "1000\n"
     ]
    }
   ],
   "source": [
    "print(len(movies_name))\n",
    "print(len(year))\n",
    "print(len(rating))\n",
    "print(len(description))\n",
    "print(len(Director))\n",
    "print(len(Stars))\n",
    "print(len(Gener))"
   ]
  },
  {
   "cell_type": "code",
   "execution_count": 78,
   "id": "472a1950",
   "metadata": {},
   "outputs": [
    {
     "data": {
      "text/plain": [
       "Name_of_Movies    0\n",
       "Year_Of_Relese    0\n",
       "Ratings           1\n",
       "Description       0\n",
       "Director          1\n",
       "Stars             1\n",
       "Gener             0\n",
       "dtype: int64"
      ]
     },
     "execution_count": 78,
     "metadata": {},
     "output_type": "execute_result"
    }
   ],
   "source": [
    "movies_df_2014.isnull().sum()"
   ]
  },
  {
   "cell_type": "code",
   "execution_count": null,
   "id": "73a8036f",
   "metadata": {},
   "outputs": [],
   "source": []
  },
  {
   "cell_type": "markdown",
   "id": "ac430655",
   "metadata": {},
   "source": [
    "## 2015"
   ]
  },
  {
   "cell_type": "code",
   "execution_count": null,
   "id": "d046f60e",
   "metadata": {},
   "outputs": [],
   "source": []
  },
  {
   "cell_type": "code",
   "execution_count": 79,
   "id": "52cf21a7",
   "metadata": {},
   "outputs": [],
   "source": [
    "movies_name=[]\n",
    "year=[]\n",
    "rating=[]\n",
    "description=[]\n",
    "Director=[]\n",
    "Stars=[]\n",
    "Gener=[]"
   ]
  },
  {
   "cell_type": "code",
   "execution_count": 80,
   "id": "c80ca914",
   "metadata": {},
   "outputs": [],
   "source": [
    "for page in pages:\n",
    "    my_url = requests.get(f'https://www.imdb.com/search/title/?title_type=feature&year=2015-01-01,2015-12-31&start={str(page)}&ref_=adv_nxt')\n",
    "    page_html= my_url.content \n",
    "    page_soup=soup(page_html,\"html.parser\") \n",
    "    containers= page_soup.findAll(\"div\", {\"class\": \"lister-item mode-advanced\"}) \n",
    "    sleep(randint(2,8))\n",
    "    for i in containers: \n",
    "        name=i.h3.a.text\n",
    "        movies_name.append(name)\n",
    "        \n",
    "        year_of_relese= i.h3.find('span', {\"class\": \"lister-item-year\"}).text.replace('(', '').replace(')', '')\n",
    "        year.append(year_of_relese)\n",
    "        \n",
    "        des=i.findAll('p',class_='text-muted')[1].text.strip('\\n')\n",
    "        description.append(des)\n",
    "        \n",
    "        try:\n",
    "            rate = i.find('div', class_ = \"inline-block ratings-imdb-rating\").text.replace('\\n','')\n",
    "            rating.append(rate)\n",
    "        except AttributeError:\n",
    "            rating.append(np.nan)\n",
    "            \n",
    "        \n",
    "        try:\n",
    "            cast=i.find('p',class_='').text.replace('\\n', '').split('|')\n",
    "            cast = [x.strip() for x in cast]\n",
    "            try:\n",
    "                cast = [cast[i].replace(j, \"\") for i,j in enumerate([\"Director:\", \"Stars:\"])]\n",
    "                Director.append(cast[0])\n",
    "                Stars.append(cast[1]) \n",
    "            except IndexError or AttributeError:\n",
    "                Director.append(np.nan)\n",
    "                Stars.append(np.nan) \n",
    "        except AttributeError or IndexError:\n",
    "            Director.append(np.nan)\n",
    "            Stars.append(np.nan) \n",
    "            \n",
    "        \n",
    "        try:\n",
    "            gener=i.find('span',{'class':'genre'}).text.strip()\n",
    "            Gener.append(gener) \n",
    "        except AttributeError:\n",
    "            Gener.append(np.nan) "
   ]
  },
  {
   "cell_type": "code",
   "execution_count": 81,
   "id": "e6fdfc77",
   "metadata": {},
   "outputs": [],
   "source": [
    "movies_df_2015 = pd.DataFrame({'Name_of_Movies':movies_name,'Year_Of_Relese':year,'Ratings':rating,\n",
    "                          'Description':description,'Director':Director,'Stars':Stars,'Gener':Gener})"
   ]
  },
  {
   "cell_type": "code",
   "execution_count": 82,
   "id": "04a31719",
   "metadata": {},
   "outputs": [
    {
     "name": "stdout",
     "output_type": "stream",
     "text": [
      "1000\n",
      "1000\n",
      "1000\n",
      "1000\n",
      "1000\n",
      "1000\n",
      "1000\n"
     ]
    }
   ],
   "source": [
    "print(len(movies_name))\n",
    "print(len(year))\n",
    "print(len(rating))\n",
    "print(len(description))\n",
    "print(len(Director))\n",
    "print(len(Stars))\n",
    "print(len(Gener))"
   ]
  },
  {
   "cell_type": "code",
   "execution_count": 83,
   "id": "b78923dd",
   "metadata": {},
   "outputs": [
    {
     "data": {
      "text/plain": [
       "Name_of_Movies    0\n",
       "Year_Of_Relese    0\n",
       "Ratings           2\n",
       "Description       0\n",
       "Director          3\n",
       "Stars             3\n",
       "Gener             1\n",
       "dtype: int64"
      ]
     },
     "execution_count": 83,
     "metadata": {},
     "output_type": "execute_result"
    }
   ],
   "source": [
    "movies_df_2015.isnull().sum()"
   ]
  },
  {
   "cell_type": "code",
   "execution_count": null,
   "id": "55297351",
   "metadata": {},
   "outputs": [],
   "source": []
  },
  {
   "cell_type": "code",
   "execution_count": null,
   "id": "e981d847",
   "metadata": {},
   "outputs": [],
   "source": []
  },
  {
   "cell_type": "markdown",
   "id": "31eb4d5e",
   "metadata": {},
   "source": [
    "## 2016"
   ]
  },
  {
   "cell_type": "code",
   "execution_count": null,
   "id": "006321b4",
   "metadata": {},
   "outputs": [],
   "source": []
  },
  {
   "cell_type": "code",
   "execution_count": 84,
   "id": "1e9ad09c",
   "metadata": {},
   "outputs": [],
   "source": [
    "movies_name=[]\n",
    "year=[]\n",
    "rating=[]\n",
    "description=[]\n",
    "Director=[]\n",
    "Stars=[]\n",
    "Gener=[]"
   ]
  },
  {
   "cell_type": "code",
   "execution_count": 85,
   "id": "bc33ce60",
   "metadata": {},
   "outputs": [],
   "source": [
    "for page in pages:\n",
    "    my_url = requests.get(f'https://www.imdb.com/search/title/?title_type=feature&year=2016-01-01,2016-12-31&start={str(page)}&ref_=adv_nxt')\n",
    "    page_html= my_url.content \n",
    "    page_soup=soup(page_html,\"html.parser\") \n",
    "    containers= page_soup.findAll(\"div\", {\"class\": \"lister-item mode-advanced\"}) \n",
    "    sleep(randint(2,8))\n",
    "    for i in containers: \n",
    "        name=i.h3.a.text\n",
    "        movies_name.append(name)\n",
    "        \n",
    "        year_of_relese= i.h3.find('span', {\"class\": \"lister-item-year\"}).text.replace('(', '').replace(')', '')\n",
    "        year.append(year_of_relese)\n",
    "        \n",
    "        des=i.findAll('p',class_='text-muted')[1].text.strip('\\n')\n",
    "        description.append(des)\n",
    "        \n",
    "        try:\n",
    "            rate = i.find('div', class_ = \"inline-block ratings-imdb-rating\").text.replace('\\n','')\n",
    "            rating.append(rate)\n",
    "        except AttributeError:\n",
    "            rating.append(np.nan)\n",
    "            \n",
    "        \n",
    "        try:\n",
    "            cast=i.find('p',class_='').text.replace('\\n', '').split('|')\n",
    "            cast = [x.strip() for x in cast]\n",
    "            try:\n",
    "                cast = [cast[i].replace(j, \"\") for i,j in enumerate([\"Director:\", \"Stars:\"])]\n",
    "                Director.append(cast[0])\n",
    "                Stars.append(cast[1]) \n",
    "            except IndexError or AttributeError:\n",
    "                Director.append(np.nan)\n",
    "                Stars.append(np.nan) \n",
    "        except AttributeError or IndexError:\n",
    "            Director.append(np.nan)\n",
    "            Stars.append(np.nan) \n",
    "            \n",
    "        \n",
    "        try:\n",
    "            gener=i.find('span',{'class':'genre'}).text.strip()\n",
    "            Gener.append(gener) \n",
    "        except AttributeError:\n",
    "            Gener.append(np.nan) "
   ]
  },
  {
   "cell_type": "code",
   "execution_count": 86,
   "id": "ea1270bb",
   "metadata": {},
   "outputs": [],
   "source": [
    "movies_df_2016 = pd.DataFrame({'Name_of_Movies':movies_name,'Year_Of_Relese':year,'Ratings':rating,\n",
    "                          'Description':description,'Director':Director,'Stars':Stars,'Gener':Gener})"
   ]
  },
  {
   "cell_type": "code",
   "execution_count": 87,
   "id": "1f3072c3",
   "metadata": {},
   "outputs": [
    {
     "name": "stdout",
     "output_type": "stream",
     "text": [
      "1000\n",
      "1000\n",
      "1000\n",
      "1000\n",
      "1000\n",
      "1000\n",
      "1000\n"
     ]
    }
   ],
   "source": [
    "print(len(movies_name))\n",
    "print(len(year))\n",
    "print(len(rating))\n",
    "print(len(description))\n",
    "print(len(Director))\n",
    "print(len(Stars))\n",
    "print(len(Gener))"
   ]
  },
  {
   "cell_type": "code",
   "execution_count": 88,
   "id": "4936c463",
   "metadata": {},
   "outputs": [
    {
     "data": {
      "text/plain": [
       "Name_of_Movies    0\n",
       "Year_Of_Relese    0\n",
       "Ratings           1\n",
       "Description       0\n",
       "Director          2\n",
       "Stars             2\n",
       "Gener             1\n",
       "dtype: int64"
      ]
     },
     "execution_count": 88,
     "metadata": {},
     "output_type": "execute_result"
    }
   ],
   "source": [
    "movies_df_2016.isnull().sum()"
   ]
  },
  {
   "cell_type": "code",
   "execution_count": null,
   "id": "53c9d178",
   "metadata": {},
   "outputs": [],
   "source": []
  },
  {
   "cell_type": "markdown",
   "id": "e19ff108",
   "metadata": {},
   "source": [
    "## 2017"
   ]
  },
  {
   "cell_type": "code",
   "execution_count": null,
   "id": "28769036",
   "metadata": {},
   "outputs": [],
   "source": []
  },
  {
   "cell_type": "code",
   "execution_count": 89,
   "id": "3bcd52be",
   "metadata": {},
   "outputs": [],
   "source": [
    "movies_name=[]\n",
    "year=[]\n",
    "rating=[]\n",
    "description=[]\n",
    "Director=[]\n",
    "Stars=[]\n",
    "Gener=[]"
   ]
  },
  {
   "cell_type": "code",
   "execution_count": 90,
   "id": "c019a7b3",
   "metadata": {},
   "outputs": [],
   "source": [
    "for page in pages:\n",
    "    my_url = requests.get(f'https://www.imdb.com/search/title/?title_type=feature&year=2017-01-01,2017-12-31&start={str(page)}&ref_=adv_nxt')\n",
    "    page_html= my_url.content \n",
    "    page_soup=soup(page_html,\"html.parser\") \n",
    "    containers= page_soup.findAll(\"div\", {\"class\": \"lister-item mode-advanced\"}) \n",
    "    sleep(randint(2,8))\n",
    "    for i in containers: \n",
    "        name=i.h3.a.text\n",
    "        movies_name.append(name)\n",
    "        \n",
    "        year_of_relese= i.h3.find('span', {\"class\": \"lister-item-year\"}).text.replace('(', '').replace(')', '')\n",
    "        year.append(year_of_relese)\n",
    "        \n",
    "        des=i.findAll('p',class_='text-muted')[1].text.strip('\\n')\n",
    "        description.append(des)\n",
    "        \n",
    "        try:\n",
    "            rate = i.find('div', class_ = \"inline-block ratings-imdb-rating\").text.replace('\\n','')\n",
    "            rating.append(rate)\n",
    "        except AttributeError:\n",
    "            rating.append(np.nan)\n",
    "            \n",
    "        \n",
    "        try:\n",
    "            cast=i.find('p',class_='').text.replace('\\n', '').split('|')\n",
    "            cast = [x.strip() for x in cast]\n",
    "            try:\n",
    "                cast = [cast[i].replace(j, \"\") for i,j in enumerate([\"Director:\", \"Stars:\"])]\n",
    "                Director.append(cast[0])\n",
    "                Stars.append(cast[1]) \n",
    "            except IndexError or AttributeError:\n",
    "                Director.append(np.nan)\n",
    "                Stars.append(np.nan) \n",
    "        except AttributeError or IndexError:\n",
    "            Director.append(np.nan)\n",
    "            Stars.append(np.nan) \n",
    "            \n",
    "        \n",
    "        try:\n",
    "            gener=i.find('span',{'class':'genre'}).text.strip()\n",
    "            Gener.append(gener) \n",
    "        except AttributeError:\n",
    "            Gener.append(np.nan) "
   ]
  },
  {
   "cell_type": "code",
   "execution_count": 91,
   "id": "9a3505fc",
   "metadata": {},
   "outputs": [],
   "source": [
    "movies_df_2017 = pd.DataFrame({'Name_of_Movies':movies_name,'Year_Of_Relese':year,'Ratings':rating,\n",
    "                          'Description':description,'Director':Director,'Stars':Stars,'Gener':Gener})"
   ]
  },
  {
   "cell_type": "code",
   "execution_count": 92,
   "id": "fe28c404",
   "metadata": {},
   "outputs": [
    {
     "name": "stdout",
     "output_type": "stream",
     "text": [
      "1000\n",
      "1000\n",
      "1000\n",
      "1000\n",
      "1000\n",
      "1000\n",
      "1000\n"
     ]
    }
   ],
   "source": [
    "print(len(movies_name))\n",
    "print(len(year))\n",
    "print(len(rating))\n",
    "print(len(description))\n",
    "print(len(Director))\n",
    "print(len(Stars))\n",
    "print(len(Gener))"
   ]
  },
  {
   "cell_type": "code",
   "execution_count": 93,
   "id": "fe9b48ca",
   "metadata": {},
   "outputs": [
    {
     "data": {
      "text/plain": [
       "Name_of_Movies    0\n",
       "Year_Of_Relese    0\n",
       "Ratings           1\n",
       "Description       0\n",
       "Director          0\n",
       "Stars             0\n",
       "Gener             0\n",
       "dtype: int64"
      ]
     },
     "execution_count": 93,
     "metadata": {},
     "output_type": "execute_result"
    }
   ],
   "source": [
    "movies_df_2017.isnull().sum()"
   ]
  },
  {
   "cell_type": "code",
   "execution_count": null,
   "id": "11e473ad",
   "metadata": {},
   "outputs": [],
   "source": []
  },
  {
   "cell_type": "markdown",
   "id": "5a4446b7",
   "metadata": {},
   "source": [
    "## 2018"
   ]
  },
  {
   "cell_type": "code",
   "execution_count": null,
   "id": "4282f7a8",
   "metadata": {},
   "outputs": [],
   "source": []
  },
  {
   "cell_type": "code",
   "execution_count": 94,
   "id": "66db1f07",
   "metadata": {},
   "outputs": [],
   "source": [
    "movies_name=[]\n",
    "year=[]\n",
    "rating=[]\n",
    "description=[]\n",
    "Director=[]\n",
    "Stars=[]\n",
    "Gener=[]"
   ]
  },
  {
   "cell_type": "code",
   "execution_count": 95,
   "id": "91eccdf4",
   "metadata": {},
   "outputs": [],
   "source": [
    "for page in pages:\n",
    "    my_url = requests.get(f'https://www.imdb.com/search/title/?title_type=feature&year=2018-01-01,2018-12-31&start={str(page)}&ref_=adv_nxt')\n",
    "    page_html= my_url.content \n",
    "    page_soup=soup(page_html,\"html.parser\") \n",
    "    containers= page_soup.findAll(\"div\", {\"class\": \"lister-item mode-advanced\"}) \n",
    "    sleep(randint(2,8))\n",
    "    for i in containers: \n",
    "        name=i.h3.a.text\n",
    "        movies_name.append(name)\n",
    "        \n",
    "        year_of_relese= i.h3.find('span', {\"class\": \"lister-item-year\"}).text.replace('(', '').replace(')', '')\n",
    "        year.append(year_of_relese)\n",
    "        \n",
    "        des=i.findAll('p',class_='text-muted')[1].text.strip('\\n')\n",
    "        description.append(des)\n",
    "        \n",
    "        try:\n",
    "            rate = i.find('div', class_ = \"inline-block ratings-imdb-rating\").text.replace('\\n','')\n",
    "            rating.append(rate)\n",
    "        except AttributeError:\n",
    "            rating.append(np.nan)\n",
    "            \n",
    "        \n",
    "        try:\n",
    "            cast=i.find('p',class_='').text.replace('\\n', '').split('|')\n",
    "            cast = [x.strip() for x in cast]\n",
    "            try:\n",
    "                cast = [cast[i].replace(j, \"\") for i,j in enumerate([\"Director:\", \"Stars:\"])]\n",
    "                Director.append(cast[0])\n",
    "                Stars.append(cast[1]) \n",
    "            except IndexError or AttributeError:\n",
    "                Director.append(np.nan)\n",
    "                Stars.append(np.nan) \n",
    "        except AttributeError or IndexError:\n",
    "            Director.append(np.nan)\n",
    "            Stars.append(np.nan) \n",
    "            \n",
    "        \n",
    "        try:\n",
    "            gener=i.find('span',{'class':'genre'}).text.strip()\n",
    "            Gener.append(gener) \n",
    "        except AttributeError:\n",
    "            Gener.append(np.nan) "
   ]
  },
  {
   "cell_type": "code",
   "execution_count": 96,
   "id": "e09255bd",
   "metadata": {},
   "outputs": [],
   "source": [
    "movies_df_2018 = pd.DataFrame({'Name_of_Movies':movies_name,'Year_Of_Relese':year,'Ratings':rating,\n",
    "                          'Description':description,'Director':Director,'Stars':Stars,'Gener':Gener})"
   ]
  },
  {
   "cell_type": "code",
   "execution_count": 97,
   "id": "0621b3b0",
   "metadata": {},
   "outputs": [
    {
     "name": "stdout",
     "output_type": "stream",
     "text": [
      "1000\n",
      "1000\n",
      "1000\n",
      "1000\n",
      "1000\n",
      "1000\n",
      "1000\n"
     ]
    }
   ],
   "source": [
    "print(len(movies_name))\n",
    "print(len(year))\n",
    "print(len(rating))\n",
    "print(len(description))\n",
    "print(len(Director))\n",
    "print(len(Stars))\n",
    "print(len(Gener))"
   ]
  },
  {
   "cell_type": "code",
   "execution_count": 98,
   "id": "9aedba5e",
   "metadata": {},
   "outputs": [
    {
     "data": {
      "text/plain": [
       "Name_of_Movies    0\n",
       "Year_Of_Relese    0\n",
       "Ratings           0\n",
       "Description       0\n",
       "Director          1\n",
       "Stars             1\n",
       "Gener             0\n",
       "dtype: int64"
      ]
     },
     "execution_count": 98,
     "metadata": {},
     "output_type": "execute_result"
    }
   ],
   "source": [
    "movies_df_2018.isnull().sum()"
   ]
  },
  {
   "cell_type": "code",
   "execution_count": null,
   "id": "24098737",
   "metadata": {},
   "outputs": [],
   "source": []
  },
  {
   "cell_type": "code",
   "execution_count": null,
   "id": "1c93d778",
   "metadata": {},
   "outputs": [],
   "source": []
  },
  {
   "cell_type": "markdown",
   "id": "a993251a",
   "metadata": {},
   "source": [
    "## 2019"
   ]
  },
  {
   "cell_type": "code",
   "execution_count": null,
   "id": "eefeeffb",
   "metadata": {},
   "outputs": [],
   "source": []
  },
  {
   "cell_type": "code",
   "execution_count": 99,
   "id": "71076b52",
   "metadata": {},
   "outputs": [],
   "source": [
    "movies_name=[]\n",
    "year=[]\n",
    "rating=[]\n",
    "description=[]\n",
    "Director=[]\n",
    "Stars=[]\n",
    "Gener=[]"
   ]
  },
  {
   "cell_type": "code",
   "execution_count": 100,
   "id": "275fb5f5",
   "metadata": {},
   "outputs": [],
   "source": [
    "for page in pages:\n",
    "    my_url = requests.get(f'https://www.imdb.com/search/title/?title_type=feature&year=2019-01-01,2019-12-31&start={str(page)}&ref_=adv_nxt')\n",
    "    page_html= my_url.content \n",
    "    page_soup=soup(page_html,\"html.parser\") \n",
    "    containers= page_soup.findAll(\"div\", {\"class\": \"lister-item mode-advanced\"}) \n",
    "    sleep(randint(2,8))\n",
    "    for i in containers: \n",
    "        name=i.h3.a.text\n",
    "        movies_name.append(name)\n",
    "        \n",
    "        year_of_relese= i.h3.find('span', {\"class\": \"lister-item-year\"}).text.replace('(', '').replace(')', '')\n",
    "        year.append(year_of_relese)\n",
    "        \n",
    "        des=i.findAll('p',class_='text-muted')[1].text.strip('\\n')\n",
    "        description.append(des)\n",
    "        \n",
    "        try:\n",
    "            rate = i.find('div', class_ = \"inline-block ratings-imdb-rating\").text.replace('\\n','')\n",
    "            rating.append(rate)\n",
    "        except AttributeError:\n",
    "            rating.append(np.nan)\n",
    "            \n",
    "        \n",
    "        try:\n",
    "            cast=i.find('p',class_='').text.replace('\\n', '').split('|')\n",
    "            cast = [x.strip() for x in cast]\n",
    "            try:\n",
    "                cast = [cast[i].replace(j, \"\") for i,j in enumerate([\"Director:\", \"Stars:\"])]\n",
    "                Director.append(cast[0])\n",
    "                Stars.append(cast[1]) \n",
    "            except IndexError or AttributeError:\n",
    "                Director.append(np.nan)\n",
    "                Stars.append(np.nan) \n",
    "        except AttributeError or IndexError:\n",
    "            Director.append(np.nan)\n",
    "            Stars.append(np.nan) \n",
    "            \n",
    "        \n",
    "        try:\n",
    "            gener=i.find('span',{'class':'genre'}).text.strip()\n",
    "            Gener.append(gener) \n",
    "        except AttributeError:\n",
    "            Gener.append(np.nan) "
   ]
  },
  {
   "cell_type": "code",
   "execution_count": 101,
   "id": "e4b8c6fe",
   "metadata": {},
   "outputs": [],
   "source": [
    "movies_df_2019 = pd.DataFrame({'Name_of_Movies':movies_name,'Year_Of_Relese':year,'Ratings':rating,\n",
    "                          'Description':description,'Director':Director,'Stars':Stars,'Gener':Gener})"
   ]
  },
  {
   "cell_type": "code",
   "execution_count": 102,
   "id": "fda2728c",
   "metadata": {},
   "outputs": [
    {
     "name": "stdout",
     "output_type": "stream",
     "text": [
      "1000\n",
      "1000\n",
      "1000\n",
      "1000\n",
      "1000\n",
      "1000\n",
      "1000\n"
     ]
    }
   ],
   "source": [
    "print(len(movies_name))\n",
    "print(len(year))\n",
    "print(len(rating))\n",
    "print(len(description))\n",
    "print(len(Director))\n",
    "print(len(Stars))\n",
    "print(len(Gener))"
   ]
  },
  {
   "cell_type": "code",
   "execution_count": 103,
   "id": "501fb8da",
   "metadata": {},
   "outputs": [
    {
     "data": {
      "text/plain": [
       "Name_of_Movies    0\n",
       "Year_Of_Relese    0\n",
       "Ratings           0\n",
       "Description       0\n",
       "Director          2\n",
       "Stars             2\n",
       "Gener             0\n",
       "dtype: int64"
      ]
     },
     "execution_count": 103,
     "metadata": {},
     "output_type": "execute_result"
    }
   ],
   "source": [
    "movies_df_2019.isnull().sum()"
   ]
  },
  {
   "cell_type": "code",
   "execution_count": null,
   "id": "7b52d52c",
   "metadata": {},
   "outputs": [],
   "source": []
  },
  {
   "cell_type": "markdown",
   "id": "f0285c56",
   "metadata": {},
   "source": [
    "## 2020"
   ]
  },
  {
   "cell_type": "code",
   "execution_count": null,
   "id": "5016bafd",
   "metadata": {},
   "outputs": [],
   "source": []
  },
  {
   "cell_type": "code",
   "execution_count": 104,
   "id": "0295faea",
   "metadata": {},
   "outputs": [],
   "source": [
    "movies_name=[]\n",
    "year=[]\n",
    "rating=[]\n",
    "description=[]\n",
    "Director=[]\n",
    "Stars=[]\n",
    "Gener=[]"
   ]
  },
  {
   "cell_type": "code",
   "execution_count": 105,
   "id": "eb0805cf",
   "metadata": {},
   "outputs": [],
   "source": [
    "for page in pages:\n",
    "    my_url = requests.get(f'https://www.imdb.com/search/title/?title_type=feature&year=2020-01-01,2020-12-31&start={str(page)}&ref_=adv_nxt')\n",
    "    page_html= my_url.content \n",
    "    page_soup=soup(page_html,\"html.parser\") \n",
    "    containers= page_soup.findAll(\"div\", {\"class\": \"lister-item mode-advanced\"}) \n",
    "    sleep(randint(2,8))\n",
    "    for i in containers: \n",
    "        name=i.h3.a.text\n",
    "        movies_name.append(name)\n",
    "        \n",
    "        year_of_relese= i.h3.find('span', {\"class\": \"lister-item-year\"}).text.replace('(', '').replace(')', '')\n",
    "        year.append(year_of_relese)\n",
    "        \n",
    "        des=i.findAll('p',class_='text-muted')[1].text.strip('\\n')\n",
    "        description.append(des)\n",
    "        \n",
    "        try:\n",
    "            rate = i.find('div', class_ = \"inline-block ratings-imdb-rating\").text.replace('\\n','')\n",
    "            rating.append(rate)\n",
    "        except AttributeError:\n",
    "            rating.append(np.nan)\n",
    "            \n",
    "        \n",
    "        try:\n",
    "            cast=i.find('p',class_='').text.replace('\\n', '').split('|')\n",
    "            cast = [x.strip() for x in cast]\n",
    "            try:\n",
    "                cast = [cast[i].replace(j, \"\") for i,j in enumerate([\"Director:\", \"Stars:\"])]\n",
    "                Director.append(cast[0])\n",
    "                Stars.append(cast[1]) \n",
    "            except IndexError or AttributeError:\n",
    "                Director.append(np.nan)\n",
    "                Stars.append(np.nan) \n",
    "        except AttributeError or IndexError:\n",
    "            Director.append(np.nan)\n",
    "            Stars.append(np.nan) \n",
    "            \n",
    "        \n",
    "        try:\n",
    "            gener=i.find('span',{'class':'genre'}).text.strip()\n",
    "            Gener.append(gener) \n",
    "        except AttributeError:\n",
    "            Gener.append(np.nan) "
   ]
  },
  {
   "cell_type": "code",
   "execution_count": 106,
   "id": "8d6d8061",
   "metadata": {},
   "outputs": [],
   "source": [
    "movies_df_2020 = pd.DataFrame({'Name_of_Movies':movies_name,'Year_Of_Relese':year,'Ratings':rating,\n",
    "                          'Description':description,'Director':Director,'Stars':Stars,'Gener':Gener})"
   ]
  },
  {
   "cell_type": "code",
   "execution_count": 107,
   "id": "9b39602b",
   "metadata": {},
   "outputs": [
    {
     "name": "stdout",
     "output_type": "stream",
     "text": [
      "1000\n",
      "1000\n",
      "1000\n",
      "1000\n",
      "1000\n",
      "1000\n",
      "1000\n"
     ]
    }
   ],
   "source": [
    "print(len(movies_name))\n",
    "print(len(year))\n",
    "print(len(rating))\n",
    "print(len(description))\n",
    "print(len(Director))\n",
    "print(len(Stars))\n",
    "print(len(Gener))"
   ]
  },
  {
   "cell_type": "code",
   "execution_count": 108,
   "id": "d20ff9d8",
   "metadata": {},
   "outputs": [
    {
     "data": {
      "text/plain": [
       "Name_of_Movies    0\n",
       "Year_Of_Relese    0\n",
       "Ratings           1\n",
       "Description       0\n",
       "Director          9\n",
       "Stars             9\n",
       "Gener             3\n",
       "dtype: int64"
      ]
     },
     "execution_count": 108,
     "metadata": {},
     "output_type": "execute_result"
    }
   ],
   "source": [
    "movies_df_2020.isnull().sum()"
   ]
  },
  {
   "cell_type": "code",
   "execution_count": null,
   "id": "4627df7b",
   "metadata": {},
   "outputs": [],
   "source": []
  },
  {
   "cell_type": "markdown",
   "id": "5b30a849",
   "metadata": {},
   "source": [
    "## 2021"
   ]
  },
  {
   "cell_type": "code",
   "execution_count": null,
   "id": "f38d5a7a",
   "metadata": {},
   "outputs": [],
   "source": []
  },
  {
   "cell_type": "code",
   "execution_count": 109,
   "id": "2b5ef3b8",
   "metadata": {},
   "outputs": [],
   "source": [
    "movies_name=[]\n",
    "year=[]\n",
    "rating=[]\n",
    "description=[]\n",
    "Director=[]\n",
    "Stars=[]\n",
    "Gener=[]"
   ]
  },
  {
   "cell_type": "code",
   "execution_count": 110,
   "id": "5eb1ed43",
   "metadata": {},
   "outputs": [],
   "source": [
    "for page in pages:\n",
    "    my_url = requests.get(f'https://www.imdb.com/search/title/?title_type=feature&year=2021-01-01,2021-12-31&start={str(page)}&ref_=adv_nxt')\n",
    "    page_html= my_url.content \n",
    "    page_soup=soup(page_html,\"html.parser\") \n",
    "    containers= page_soup.findAll(\"div\", {\"class\": \"lister-item mode-advanced\"}) \n",
    "    sleep(randint(2,8))\n",
    "    for i in containers: \n",
    "        name=i.h3.a.text\n",
    "        movies_name.append(name)\n",
    "        \n",
    "        year_of_relese= i.h3.find('span', {\"class\": \"lister-item-year\"}).text.replace('(', '').replace(')', '')\n",
    "        year.append(year_of_relese)\n",
    "        \n",
    "        des=i.findAll('p',class_='text-muted')[1].text.strip('\\n')\n",
    "        description.append(des)\n",
    "        \n",
    "        try:\n",
    "            rate = i.find('div', class_ = \"inline-block ratings-imdb-rating\").text.replace('\\n','')\n",
    "            rating.append(rate)\n",
    "        except AttributeError:\n",
    "            rating.append(np.nan)\n",
    "            \n",
    "        \n",
    "        try:\n",
    "            cast=i.find('p',class_='').text.replace('\\n', '').split('|')\n",
    "            cast = [x.strip() for x in cast]\n",
    "            try:\n",
    "                cast = [cast[i].replace(j, \"\") for i,j in enumerate([\"Director:\", \"Stars:\"])]\n",
    "                Director.append(cast[0])\n",
    "                Stars.append(cast[1]) \n",
    "            except IndexError or AttributeError:\n",
    "                Director.append(np.nan)\n",
    "                Stars.append(np.nan) \n",
    "        except AttributeError or IndexError:\n",
    "            Director.append(np.nan)\n",
    "            Stars.append(np.nan) \n",
    "            \n",
    "        \n",
    "        try:\n",
    "            gener=i.find('span',{'class':'genre'}).text.strip()\n",
    "            Gener.append(gener) \n",
    "        except AttributeError:\n",
    "            Gener.append(np.nan) "
   ]
  },
  {
   "cell_type": "code",
   "execution_count": 111,
   "id": "75437180",
   "metadata": {},
   "outputs": [],
   "source": [
    "movies_df_2021 = pd.DataFrame({'Name_of_Movies':movies_name,'Year_Of_Relese':year,'Ratings':rating,\n",
    "                          'Description':description,'Director':Director,'Stars':Stars,'Gener':Gener})"
   ]
  },
  {
   "cell_type": "code",
   "execution_count": 112,
   "id": "44606f51",
   "metadata": {},
   "outputs": [
    {
     "name": "stdout",
     "output_type": "stream",
     "text": [
      "1000\n",
      "1000\n",
      "1000\n",
      "1000\n",
      "1000\n",
      "1000\n",
      "1000\n"
     ]
    }
   ],
   "source": [
    "print(len(movies_name))\n",
    "print(len(year))\n",
    "print(len(rating))\n",
    "print(len(description))\n",
    "print(len(Director))\n",
    "print(len(Stars))\n",
    "print(len(Gener))"
   ]
  },
  {
   "cell_type": "code",
   "execution_count": 113,
   "id": "2ef1fbf0",
   "metadata": {},
   "outputs": [
    {
     "data": {
      "text/plain": [
       "Name_of_Movies    0\n",
       "Year_Of_Relese    0\n",
       "Ratings           4\n",
       "Description       0\n",
       "Director          2\n",
       "Stars             2\n",
       "Gener             0\n",
       "dtype: int64"
      ]
     },
     "execution_count": 113,
     "metadata": {},
     "output_type": "execute_result"
    }
   ],
   "source": [
    "movies_df_2021.isnull().sum()"
   ]
  },
  {
   "cell_type": "code",
   "execution_count": 114,
   "id": "82de5481",
   "metadata": {},
   "outputs": [],
   "source": [
    "imdb_20s_movie =  pd.concat([movies_df_2000 , movies_df_2001,movies_df_2002,movies_df_2003,\n",
    "                             movies_df_2004,movies_df_2005,movies_df_2006,movies_df_2007,\n",
    "                             movies_df_2008,movies_df_2009,movies_df_2010,movies_df_2011,\n",
    "                             movies_df_2012,movies_df_2013,movies_df_2014,movies_df_2015\n",
    "                            ,movies_df_2016,movies_df_2017,movies_df_2018,movies_df_2019,\n",
    "                            movies_df_2020,movies_df_2021],ignore_index=True,axis=0)"
   ]
  },
  {
   "cell_type": "code",
   "execution_count": 115,
   "id": "4b0b6cbd",
   "metadata": {},
   "outputs": [
    {
     "data": {
      "text/html": [
       "<div>\n",
       "<style scoped>\n",
       "    .dataframe tbody tr th:only-of-type {\n",
       "        vertical-align: middle;\n",
       "    }\n",
       "\n",
       "    .dataframe tbody tr th {\n",
       "        vertical-align: top;\n",
       "    }\n",
       "\n",
       "    .dataframe thead th {\n",
       "        text-align: right;\n",
       "    }\n",
       "</style>\n",
       "<table border=\"1\" class=\"dataframe\">\n",
       "  <thead>\n",
       "    <tr style=\"text-align: right;\">\n",
       "      <th></th>\n",
       "      <th>Name_of_Movies</th>\n",
       "      <th>Year_Of_Relese</th>\n",
       "      <th>Ratings</th>\n",
       "      <th>Description</th>\n",
       "      <th>Director</th>\n",
       "      <th>Stars</th>\n",
       "      <th>Gener</th>\n",
       "    </tr>\n",
       "  </thead>\n",
       "  <tbody>\n",
       "    <tr>\n",
       "      <th>0</th>\n",
       "      <td>American Psycho</td>\n",
       "      <td>2000</td>\n",
       "      <td>7.6</td>\n",
       "      <td>A wealthy New York City investment banking exe...</td>\n",
       "      <td>Mary Harron</td>\n",
       "      <td>Christian Bale, Justin Theroux, Josh Lucas, Bi...</td>\n",
       "      <td>Crime, Drama, Horror</td>\n",
       "    </tr>\n",
       "    <tr>\n",
       "      <th>1</th>\n",
       "      <td>Gladiator</td>\n",
       "      <td>2000</td>\n",
       "      <td>8.5</td>\n",
       "      <td>A former Roman General sets out to exact venge...</td>\n",
       "      <td>Ridley Scott</td>\n",
       "      <td>Russell Crowe, Joaquin Phoenix, Connie Nielsen...</td>\n",
       "      <td>Action, Adventure, Drama</td>\n",
       "    </tr>\n",
       "    <tr>\n",
       "      <th>2</th>\n",
       "      <td>Requiem for a Dream</td>\n",
       "      <td>2000</td>\n",
       "      <td>8.3</td>\n",
       "      <td>The drug-induced utopias of four Coney Island ...</td>\n",
       "      <td>Darren Aronofsky</td>\n",
       "      <td>Ellen Burstyn, Jared Leto, Jennifer Connelly, ...</td>\n",
       "      <td>Drama</td>\n",
       "    </tr>\n",
       "    <tr>\n",
       "      <th>3</th>\n",
       "      <td>Memento</td>\n",
       "      <td>2000</td>\n",
       "      <td>8.4</td>\n",
       "      <td>A man with short-term memory loss attempts to ...</td>\n",
       "      <td>Christopher Nolan</td>\n",
       "      <td>Guy Pearce, Carrie-Anne Moss, Joe Pantoliano, ...</td>\n",
       "      <td>Mystery, Thriller</td>\n",
       "    </tr>\n",
       "    <tr>\n",
       "      <th>4</th>\n",
       "      <td>Snatch</td>\n",
       "      <td>2000</td>\n",
       "      <td>8.3</td>\n",
       "      <td>Unscrupulous boxing promoters, violent bookmak...</td>\n",
       "      <td>Guy Ritchie</td>\n",
       "      <td>Jason Statham, Brad Pitt, Stephen Graham, Vinn...</td>\n",
       "      <td>Comedy, Crime</td>\n",
       "    </tr>\n",
       "  </tbody>\n",
       "</table>\n",
       "</div>"
      ],
      "text/plain": [
       "        Name_of_Movies Year_Of_Relese Ratings  \\\n",
       "0      American Psycho           2000     7.6   \n",
       "1            Gladiator           2000     8.5   \n",
       "2  Requiem for a Dream           2000     8.3   \n",
       "3              Memento           2000     8.4   \n",
       "4               Snatch           2000     8.3   \n",
       "\n",
       "                                         Description           Director  \\\n",
       "0  A wealthy New York City investment banking exe...        Mary Harron   \n",
       "1  A former Roman General sets out to exact venge...       Ridley Scott   \n",
       "2  The drug-induced utopias of four Coney Island ...   Darren Aronofsky   \n",
       "3  A man with short-term memory loss attempts to ...  Christopher Nolan   \n",
       "4  Unscrupulous boxing promoters, violent bookmak...        Guy Ritchie   \n",
       "\n",
       "                                               Stars                     Gener  \n",
       "0  Christian Bale, Justin Theroux, Josh Lucas, Bi...      Crime, Drama, Horror  \n",
       "1  Russell Crowe, Joaquin Phoenix, Connie Nielsen...  Action, Adventure, Drama  \n",
       "2  Ellen Burstyn, Jared Leto, Jennifer Connelly, ...                     Drama  \n",
       "3  Guy Pearce, Carrie-Anne Moss, Joe Pantoliano, ...         Mystery, Thriller  \n",
       "4  Jason Statham, Brad Pitt, Stephen Graham, Vinn...             Comedy, Crime  "
      ]
     },
     "execution_count": 115,
     "metadata": {},
     "output_type": "execute_result"
    }
   ],
   "source": [
    "imdb_20s_movie.head()"
   ]
  },
  {
   "cell_type": "code",
   "execution_count": 116,
   "id": "c3c82d94",
   "metadata": {},
   "outputs": [
    {
     "data": {
      "text/plain": [
       "(22000, 7)"
      ]
     },
     "execution_count": 116,
     "metadata": {},
     "output_type": "execute_result"
    }
   ],
   "source": [
    "imdb_20s_movie.shape"
   ]
  },
  {
   "cell_type": "code",
   "execution_count": 117,
   "id": "c0687a48",
   "metadata": {},
   "outputs": [
    {
     "data": {
      "text/plain": [
       "Name_of_Movies     0\n",
       "Year_Of_Relese     0\n",
       "Ratings           53\n",
       "Description        0\n",
       "Director          50\n",
       "Stars             50\n",
       "Gener             24\n",
       "dtype: int64"
      ]
     },
     "execution_count": 117,
     "metadata": {},
     "output_type": "execute_result"
    }
   ],
   "source": [
    "imdb_20s_movie.isnull().sum()"
   ]
  },
  {
   "cell_type": "markdown",
   "id": "03f0aac2",
   "metadata": {},
   "source": [
    "## saving in local file \n",
    "<code>imdb_20s_movie.to_csv('E:\\linkdin post project\\imdb_20s_movie.csv')</code>"
   ]
  },
  {
   "cell_type": "code",
   "execution_count": null,
   "id": "66956ef5",
   "metadata": {},
   "outputs": [],
   "source": []
  }
 ],
 "metadata": {
  "kernelspec": {
   "display_name": "Python 3 (ipykernel)",
   "language": "python",
   "name": "python3"
  },
  "language_info": {
   "codemirror_mode": {
    "name": "ipython",
    "version": 3
   },
   "file_extension": ".py",
   "mimetype": "text/x-python",
   "name": "python",
   "nbconvert_exporter": "python",
   "pygments_lexer": "ipython3",
   "version": "3.9.7"
  }
 },
 "nbformat": 4,
 "nbformat_minor": 5
}
